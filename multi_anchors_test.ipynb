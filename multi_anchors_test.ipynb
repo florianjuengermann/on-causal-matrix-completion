{
 "cells": [
  {
   "cell_type": "code",
   "execution_count": null,
   "metadata": {},
   "outputs": [],
   "source": [
    "from networkx.utils.misc import flatten\n",
    "from snn import SyntheticNearestNeighbors\n",
    "import numpy as np\n",
    "import matplotlib.pyplot as plt\n",
    "import generator as gen\n",
    "import multi_anchors_NN as MA_NN"
   ]
  }
 ],
 "metadata": {
  "language_info": {
   "name": "python"
  },
  "orig_nbformat": 4
 },
 "nbformat": 4,
 "nbformat_minor": 2
}
