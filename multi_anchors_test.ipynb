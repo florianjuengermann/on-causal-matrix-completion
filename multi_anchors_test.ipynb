{
 "cells": [
  {
   "cell_type": "code",
   "execution_count": 1,
   "metadata": {},
   "outputs": [],
   "source": [
    "import numpy as np\n",
    "import matplotlib.pyplot as plt\n",
    "from src import generator as gen\n",
    "from src.estimators import SNNEstimator, RidgeEstimator\n",
    "from src.general_snn import general_snn\n",
    "from src import anchor_matrix as am"
   ]
  },
  {
   "cell_type": "code",
   "execution_count": 2,
   "metadata": {},
   "outputs": [],
   "source": [
    "def print_analytics(RMSEs, MAEs, rating_matrix, Y_restored):\n",
    "  print(f\"RMSE: {np.mean(RMSEs):.4f}±{np.sqrt(np.var(RMSEs)):.3f}\")\n",
    "  print(f\"MAE: {np.mean(MAEs):.4f}±{np.sqrt(np.var(MAEs)):.3f}\")\n",
    "  # distribution of true vs restored samples:\n",
    "  plt.hist(rating_matrix.flatten(), bins=100, alpha=0.3, label=\"true ratings\")\n",
    "  plt.hist(Y_restored.flatten(), bins=100, color='C0', alpha=0.7, label=\"restored ratings\")\n",
    "  plt.xlabel('ratings')\n",
    "  plt.ylabel('frequency')\n",
    "  plt.grid(alpha=0.5)\n",
    "  plt.legend()\n",
    "  plt.legend(loc=\"upper right\");"
   ]
  },
  {
   "cell_type": "code",
   "execution_count": 3,
   "metadata": {},
   "outputs": [],
   "source": [
    "inv_scale=1\n",
    "\n",
    "rating_matrix, P = gen.getRatingAndPropensityMatrix(inv_scale=inv_scale)"
   ]
  },
  {
   "cell_type": "code",
   "execution_count": 5,
   "metadata": {},
   "outputs": [
    {
     "name": "stdout",
     "output_type": "stream",
     "text": [
      "0/80\n",
      "1/80\n",
      "2/80\n",
      "3/80\n",
      "4/80\n",
      "5/80\n",
      "6/80\n",
      "7/80\n",
      "8/80\n",
      "9/80\n",
      "10/80\n",
      "11/80\n",
      "12/80\n",
      "13/80\n",
      "14/80\n",
      "15/80\n",
      "16/80\n",
      "17/80\n",
      "18/80\n",
      "19/80\n",
      "20/80\n",
      "21/80\n",
      "22/80\n",
      "23/80\n",
      "24/80\n",
      "25/80\n",
      "26/80\n",
      "27/80\n",
      "28/80\n",
      "29/80\n",
      "30/80\n",
      "31/80\n",
      "32/80\n",
      "33/80\n",
      "34/80\n",
      "35/80\n",
      "36/80\n",
      "37/80\n",
      "38/80\n",
      "39/80\n",
      "40/80\n",
      "41/80\n",
      "42/80\n",
      "43/80\n",
      "44/80\n",
      "45/80\n",
      "46/80\n",
      "47/80\n",
      "48/80\n",
      "49/80\n",
      "50/80\n",
      "51/80\n",
      "52/80\n",
      "53/80\n",
      "54/80\n",
      "55/80\n",
      "56/80\n",
      "57/80\n",
      "58/80\n",
      "59/80\n",
      "60/80\n",
      "61/80\n",
      "62/80\n",
      "63/80\n",
      "64/80\n",
      "65/80\n",
      "66/80\n",
      "67/80\n",
      "68/80\n",
      "69/80\n",
      "70/80\n",
      "71/80\n",
      "72/80\n",
      "73/80\n",
      "74/80\n",
      "75/80\n",
      "76/80\n",
      "77/80\n",
      "78/80\n",
      "79/80\n",
      "RMSE: 0.4327±0.000\n",
      "MAE: 0.2696±0.000\n"
     ]
    },
    {
     "data": {
      "image/png": "[encoded data removed]",
      "text/plain": [
       "<Figure size 432x288 with 1 Axes>"
      ]
     },
     "metadata": {
      "needs_background": "light"
     },
     "output_type": "display_data"
    }
   ],
   "source": [
    "RMSEs = []\n",
    "MAEs = []\n",
    "for _ in range(1):\n",
    "    D = np.random.binomial(1, P)\n",
    "    Y = rating_matrix.copy()\n",
    "    Y[D == 0] = np.nan\n",
    "    Y_restored = general_snn(\n",
    "      D, Y,\n",
    "      biclique_search=am.biclique_random,\n",
    "      estimator=SNNEstimator(),\n",
    "      #estimator=RidgeEstimator(),\n",
    "      num_estimates=3,\n",
    "      min_val=1, max_val=5,\n",
    "      print_progress=True\n",
    "    )\n",
    "    Error = (rating_matrix - Y_restored).flatten()\n",
    "    RMSEs.append(np.sqrt(np.mean(Error ** 2)))\n",
    "    MAEs.append(np.mean(np.abs(Error)))\n",
    "\n",
    "print_analytics(RMSEs, MAEs, rating_matrix, Y_restored)"
   ]
  }
 ],
 "metadata": {
  "interpreter": {
   "hash": "31f2aee4e71d21fbe5cf8b01ff0e069b9275f58929596ceb00d14d90e3e16cd6"
  },
  "kernelspec": {
   "display_name": "Python 3.8.10 64-bit",
   "language": "python",
   "name": "python3"
  },
  "language_info": {
   "codemirror_mode": {
    "name": "ipython",
    "version": 3
   },
   "file_extension": ".py",
   "mimetype": "text/x-python",
   "name": "python",
   "nbconvert_exporter": "python",
   "pygments_lexer": "ipython3",
   "version": "3.8.10"
  },
  "orig_nbformat": 4
 },
 "nbformat": 4,
 "nbformat_minor": 2
}
