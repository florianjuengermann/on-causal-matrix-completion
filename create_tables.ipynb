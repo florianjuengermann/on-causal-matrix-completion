{
 "cells": [
  {
   "cell_type": "code",
   "execution_count": 2,
   "metadata": {},
   "outputs": [],
   "source": [
    "import json\n",
    "import numpy as np"
   ]
  },
  {
   "cell_type": "markdown",
   "metadata": {},
   "source": [
    "## 1. Runtime Anchor Methods"
   ]
  },
  {
   "cell_type": "code",
   "execution_count": 8,
   "metadata": {},
   "outputs": [],
   "source": [
    "# read json file\n",
    "with open('data/res1.json') as f:\n",
    "    res1 = json.load(f)\n",
    "\n",
    "res1\n",
    "\n",
    "d_sizes = [80, 100, 160]\n",
    "methods = [\"biclique_find\", \"biclique_random\", \"whole_matrix\"]\n",
    "\n",
    "with open(\"tables/runtime.tex\", \"w\") as f:\n",
    "    f.write(\"\"\"\n",
    "\\\\begin{tabular}{l*{6}{r}} \\n\n",
    "\\\\toprule \\n\n",
    "& \\\\multicolumn{2}{c}{best} & \\\\multicolumn{2}{c}{random} & \\\\multicolumn{2}{c}{incomplete} \\\\\\\\ \\n\n",
    "\\\\cmidrule(lr){2-3} \\\\cmidrule(lr){4-5} \\\\cmidrule(lr){6-7} \\n\n",
    "& time $[s]$ & RMSE & time $[s]$ & RMSE & time $[s]$ & RMSE \\\\\\\\ \\n \n",
    "\\\\midrule \\n \\\\addlinespace \\n\n",
    "    \"\"\")\n",
    "    for d_type, d_prefix in [(\"Limited MNAR\", \"l\"), (\"General MNAR\", \"g\")]:\n",
    "        f.write(\"\\\\addlinespace \\n $N$ & \\\\multicolumn{6}{l}{\\\\textbf{\"+d_type+\"}} \\\\\\\\ \\n \\\\addlinespace \\n\")\n",
    "        for N in d_sizes:\n",
    "            for est in [\"RidgeEstimator\"]: #, \"SNNEstimator\"]:\n",
    "                f.write(f\"{N} &\")\n",
    "                def formatEntry(method):\n",
    "                    res = res1[method][est][f\"{d_prefix}{N:03}\"] if f\"{d_prefix}{N:03}\" in res1[method][est] else None\n",
    "                    if res is None:\n",
    "                        return \"\\\\multicolumn{2}{c}{-}\"\n",
    "                    else:\n",
    "                        return f\"{res['time']['mean']:.0f} & {res['RMSE']['mean']:.2f}\"\n",
    "\n",
    "                f.write(\" & \".join(map(formatEntry, methods)))\n",
    "                f.write(\" \\\\\\\\ \\n\")\n",
    "    f.write(\"\\\\bottomrule \\n \\\\end{tabular}\")"
   ]
  },
  {
   "cell_type": "markdown",
   "metadata": {},
   "source": [
    "## 2. Num Estimates"
   ]
  },
  {
   "cell_type": "code",
   "execution_count": 13,
   "metadata": {},
   "outputs": [
    {
     "name": "stdout",
     "output_type": "stream",
     "text": [
      "### RMSE ###\n",
      "\\addplot[red,mark=*, error bars/.cd, y dir=both, y explicit] coordinates {\n",
      "(1, 0.1607043872503958) +- (0.01702645737387127, 0.01702645737387127)\n",
      "(3, 0.10268382978049333) +- (0.009082451335537358, 0.009082451335537358)\n",
      "(5, 0.09256484332231517) +- (0.012946281691134254, 0.012946281691134254)\n",
      "(10, 0.07762708779826488) +- (0.003767849624893913, 0.003767849624893913)\n",
      "(20, 0.07091422307849908) +- (0.006534814098803101, 0.006534814098803101)\n",
      "};\n",
      "\\addplot[red,mark=*, error bars/.cd, y dir=both, y explicit] coordinates {\n",
      "(1, 0.030163918008564966) +- (0.002258406020569725, 0.002258406020569725)\n",
      "(3, 0.027264185151330188) +- (0.002356610121726048, 0.002356610121726048)\n",
      "(5, 0.032477292720532125) +- (0.004834236372646718, 0.004834236372646718)\n",
      "(10, 0.030183689108049007) +- (0.00415086659870553, 0.00415086659870553)\n",
      "(20, 0.02540723461679965) +- (0.004682499884583392, 0.004682499884583392)\n",
      "};\n",
      "### time ###\n",
      "\\addplot[red,mark=*, error bars/.cd, y dir=both, y explicit] coordinates {\n",
      "(1, 17.576289653778076) +- (0.8346385099281224, 0.8346385099281224)\n",
      "(3, 54.299521350860594) +- (1.6951109962355952, 1.6951109962355952)\n",
      "(5, 90.1566011428833) +- (1.158551739790234, 1.158551739790234)\n",
      "(10, 178.52691688537598) +- (1.4465815407311016, 1.4465815407311016)\n",
      "(20, 356.49924569129945) +- (3.009009710479661, 3.009009710479661)\n",
      "};\n",
      "\\addplot[red,mark=*, error bars/.cd, y dir=both, y explicit] coordinates {\n",
      "(1, 22.313345623016357) +- (0.32162688459057187, 0.32162688459057187)\n",
      "(3, 65.76688904762268) +- (1.8382712740759655, 1.8382712740759655)\n",
      "(5, 111.47609009742737) +- (1.3650514678739412, 1.3650514678739412)\n",
      "(10, 219.43356490135193) +- (2.8282533145622377, 2.8282533145622377)\n",
      "(20, 440.6752125740051) +- (13.22434932406164, 13.22434932406164)\n",
      "};\n"
     ]
    }
   ],
   "source": [
    "with open('data/res2.json') as f:\n",
    "    res2 = json.load(f)\n",
    "\n",
    "datasets = [\"l80\", \"g80\"]\n",
    "num_est = res2.keys()\n",
    "y_keys = [\"RMSE\", \"time\"]\n",
    "\n",
    "for y_key in y_keys:\n",
    "    print(f\"### {y_key} ###\")\n",
    "    for dataset in datasets:\n",
    "        print(\"\\\\addplot[red,mark=*, error bars/.cd, y dir=both, y explicit] coordinates {\")\n",
    "        print(\"\\n\".join([f\"({N}, {res2[N][dataset][y_key]['mean']}) +- ({res2[N][dataset][y_key]['std']}, {res2[N][dataset][y_key]['std']})\" for N in num_est]))\n",
    "        print(\"};\")"
   ]
  }
 ],
 "metadata": {
  "interpreter": {
   "hash": "31f2aee4e71d21fbe5cf8b01ff0e069b9275f58929596ceb00d14d90e3e16cd6"
  },
  "kernelspec": {
   "display_name": "Python 3.8.10 64-bit",
   "language": "python",
   "name": "python3"
  },
  "language_info": {
   "codemirror_mode": {
    "name": "ipython",
    "version": 3
   },
   "file_extension": ".py",
   "mimetype": "text/x-python",
   "name": "python",
   "nbconvert_exporter": "python",
   "pygments_lexer": "ipython3",
   "version": "3.8.10"
  },
  "orig_nbformat": 4
 },
 "nbformat": 4,
 "nbformat_minor": 2
}
