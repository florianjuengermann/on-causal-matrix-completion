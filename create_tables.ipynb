{
 "cells": [
  {
   "cell_type": "code",
   "execution_count": 2,
   "metadata": {},
   "outputs": [],
   "source": [
    "import json\n",
    "import numpy as np"
   ]
  },
  {
   "cell_type": "markdown",
   "metadata": {},
   "source": [
    "## 1. Runtime Anchor Methods"
   ]
  },
  {
   "cell_type": "code",
   "execution_count": 4,
   "metadata": {},
   "outputs": [],
   "source": [
    "# read json file\n",
    "with open('data/res1.json') as f:\n",
    "    res1 = json.load(f)\n",
    "\n",
    "res1\n",
    "\n",
    "d_sizes = [80, 100, 160]\n",
    "methods = [\"biclique_find\", \"biclique_random\", \"whole_matrix\"]\n",
    "\n",
    "with open(\"tables/runtime.tex\", \"w\") as f:\n",
    "    f.write(\"\"\"\n",
    "\\\\begin{tabular}{l*{6}{r}} \\n\n",
    "\\\\toprule \\n\n",
    "& \\\\multicolumn{2}{c}{best} & \\\\multicolumn{2}{c}{random} & \\\\multicolumn{2}{c}{incomplete} \\\\\\\\ \\n\n",
    "\\\\cmidrule(lr){2-3} \\\\cmidrule(lr){4-5} \\\\cmidrule(lr){6-7} \\n\n",
    "& time $[s]$ & RMSE & time $[s]$ & RMSE & time $[s]$ & RMSE \\\\\\\\ \\n \n",
    "\\\\midrule \\n \\\\addlinespace \\n\n",
    "    \"\"\")\n",
    "    for d_type, d_prefix in [(\"Limited MNAR\", \"l\"), (\"General MNAR\", \"g\")]:\n",
    "        f.write(\"\\\\addlinespace \\n $N$ & \\\\multicolumn{6}{l}{\\\\textbf{\"+d_type+\"}} \\\\\\\\ \\n \\\\addlinespace \\n\")\n",
    "        for N in d_sizes:\n",
    "            for est in [\"RidgeEstimator\"]#, \"SNNEstimator\"]:\n",
    "                f.write(f\"{N} &\")\n",
    "                def formatEntry(method):\n",
    "                    res = res1[method][est][f\"{d_prefix}{N:03}\"] if f\"{d_prefix}{N:03}\" in res1[method][est] else None\n",
    "                    if res is None:\n",
    "                        return \"\\\\multicolumn{2}{c}{-}\"\n",
    "                    else:\n",
    "                        return f\"{res['time']['mean']:.0f} & {res['RMSE']['mean']:.2f}\"\n",
    "\n",
    "                f.write(\" & \".join(map(formatEntry, methods)))\n",
    "                f.write(\" \\\\\\\\ \\n\")\n",
    "    f.write(\"\\\\bottomrule \\n \\\\end{tabular}\")"
   ]
  },
  {
   "cell_type": "code",
   "execution_count": 6,
   "metadata": {},
   "outputs": [
    {
     "data": {
      "text/plain": [
       "'13'"
      ]
     },
     "execution_count": 6,
     "metadata": {},
     "output_type": "execute_result"
    }
   ],
   "source": [
    "a = 13.1\n",
    "f\"{a:.0f}\""
   ]
  }
 ],
 "metadata": {
  "interpreter": {
   "hash": "31f2aee4e71d21fbe5cf8b01ff0e069b9275f58929596ceb00d14d90e3e16cd6"
  },
  "kernelspec": {
   "display_name": "Python 3.8.10 64-bit",
   "language": "python",
   "name": "python3"
  },
  "language_info": {
   "codemirror_mode": {
    "name": "ipython",
    "version": 3
   },
   "file_extension": ".py",
   "mimetype": "text/x-python",
   "name": "python",
   "nbconvert_exporter": "python",
   "pygments_lexer": "ipython3",
   "version": "3.8.10"
  },
  "orig_nbformat": 4
 },
 "nbformat": 4,
 "nbformat_minor": 2
}
