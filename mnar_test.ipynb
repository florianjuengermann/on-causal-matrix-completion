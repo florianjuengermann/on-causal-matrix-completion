{
 "cells": [
  {
   "cell_type": "code",
   "execution_count": 1,
   "metadata": {},
   "outputs": [],
   "source": [
    "from networkx.utils.misc import flatten\n",
    "from snn import SyntheticNearestNeighbors\n",
    "import numpy as np\n",
    "import matplotlib.pyplot as plt\n",
    "import generator as gen\n",
    "import ridgeNN"
   ]
  },
  {
   "cell_type": "markdown",
   "metadata": {},
   "source": [
    "## Limited MNAR"
   ]
  },
  {
   "cell_type": "code",
   "execution_count": 2,
   "metadata": {},
   "outputs": [],
   "source": [
    "params = {\n",
    "    'n_neighbors': 1,\n",
    "    # 'weights': 'distance',\n",
    "    'verbose': False,\n",
    "    # 'spectral_t': 0.999,\n",
    "    #'max_rank': 3, # --> RMSE ~ 0.1\n",
    "    'min_value': 1,\n",
    "    'max_value': 5,\n",
    "}\n",
    "snn = SyntheticNearestNeighbors(**params)"
   ]
  },
  {
   "cell_type": "code",
   "execution_count": 3,
   "metadata": {},
   "outputs": [
    {
     "name": "stdout",
     "output_type": "stream",
     "text": [
      "RMSE: 0.2763±0.032\n",
      "MAE: 0.1456±0.019\n"
     ]
    },
    {
     "data": {
      "image/png": "[encoded data removed]",
      "text/plain": [
       "<Figure size 432x288 with 1 Axes>"
      ]
     },
     "metadata": {
      "needs_background": "light"
     },
     "output_type": "display_data"
    }
   ],
   "source": [
    "# TODO change inv_scale to 2 to run faster (5s instead of 15min)\n",
    "inv_scale = 1\n",
    "rating_matrix, P = gen.getRatingAndPropensityMatrix(inv_scale=inv_scale)\n",
    "# sample D:\n",
    "D = np.random.binomial(1, P)\n",
    "\n",
    "RMSEs = []\n",
    "MAEs = []\n",
    "for _ in range(3):\n",
    "    D = np.random.binomial(1, P)\n",
    "    Y = rating_matrix * D\n",
    "    Y[D == 0] = np.nan\n",
    "    Y_restored = snn.fit_transform(Y)\n",
    "    #Y_restored = ridgeNN.RidgeNN(D, Y)\n",
    "    #Y_restored[Y_restored < 1] = 1\n",
    "    #Y_restored[Y_restored > 5] = 5\n",
    "    Error = (rating_matrix - Y_restored).flatten()\n",
    "    RMSEs.append(np.sqrt(np.mean(Error ** 2)))\n",
    "    MAEs.append(np.mean(np.abs(Error)))\n",
    "\n",
    "print(f\"RMSE: {np.mean(RMSEs):.4f}±{np.sqrt(np.var(RMSEs)):.3f}\")\n",
    "print(f\"MAE: {np.mean(MAEs):.4f}±{np.sqrt(np.var(MAEs)):.3f}\")\n",
    "# distribution of true vs restored samples:\n",
    "plt.hist(rating_matrix.flatten(), bins=100, alpha=0.3, label=\"true ratings\")\n",
    "plt.hist(Y_restored.flatten(), bins=100, color='C0', alpha=0.7, label=\"restored ratings\")\n",
    "plt.xlabel('ratings')\n",
    "plt.ylabel('frequency')\n",
    "plt.grid(alpha=0.5)\n",
    "plt.legend()\n",
    "plt.legend(loc=\"upper right\");"
   ]
  },
  {
   "cell_type": "markdown",
   "metadata": {},
   "source": [
    "## General MNAR"
   ]
  },
  {
   "cell_type": "code",
   "execution_count": 4,
   "metadata": {},
   "outputs": [],
   "source": [
    "params = {\n",
    "    'n_neighbors': 1,\n",
    "    # 'weights': 'distance',\n",
    "    'verbose': False,\n",
    "    # 'spectral_t': 0.999,\n",
    "    # TODO uncomment this line to improve the accuarcy:\n",
    "    #'max_rank': 8, # --> RMSE ~ 0.10\n",
    "    'min_value': 1,\n",
    "    'max_value': 5,\n",
    "}\n",
    "snn = SyntheticNearestNeighbors(**params)"
   ]
  },
  {
   "cell_type": "code",
   "execution_count": 5,
   "metadata": {},
   "outputs": [
    {
     "name": "stdout",
     "output_type": "stream",
     "text": [
      "RMSE: 0.3632±0.038\n",
      "MAE: 0.1565±0.013\n"
     ]
    },
    {
     "data": {
      "image/png": "[encoded data removed]",
      "text/plain": [
       "<Figure size 432x288 with 1 Axes>"
      ]
     },
     "metadata": {
      "needs_background": "light"
     },
     "output_type": "display_data"
    }
   ],
   "source": [
    "inv_scale = 1 # 1: full resolution, 2: half resolution\n",
    "_, _, latent_movie_matrix = gen.getRatingAndPropensityMatrix_general(inv_scale=inv_scale)\n",
    "RMSEs = []\n",
    "MAEs = []\n",
    "for _ in range(3):\n",
    "    # pass the old latent_movie_matrix so we do not recompute it\n",
    "    # only recompute rating_matrix\n",
    "    rating_matrix, P, latent_movie_matrix = gen.getRatingAndPropensityMatrix_general(\n",
    "        latent_movie_matrix,\n",
    "        inv_scale=inv_scale\n",
    "    )\n",
    "    D = np.random.binomial(1, P)  # not really needed as P[i,j] ∈ {0, 1}\n",
    "    Y = rating_matrix * D\n",
    "    Y[D == 0] = np.nan\n",
    "    Y_restored = snn.fit_transform(Y)\n",
    "    #Y_restored = ridgeNN.RidgeNN(D, Y)\n",
    "    #Y_restored[Y_restored < 1] = 1\n",
    "    #Y_restored[Y_restored > 5] = 5\n",
    "    Error = (rating_matrix - Y_restored).flatten()\n",
    "    RMSEs.append(np.sqrt(np.mean(Error ** 2)))\n",
    "    MAEs.append(np.mean(np.abs(Error)))\n",
    "\n",
    "print(f\"RMSE: {np.mean(RMSEs):.4f}±{np.sqrt(np.var(RMSEs)):.3f}\")\n",
    "print(f\"MAE: {np.mean(MAEs):.4f}±{np.sqrt(np.var(MAEs)):.3f}\")\n",
    "\n",
    "# distribution of true vs restored samples:\n",
    "plt.hist(rating_matrix.flatten(), bins=100, alpha=0.3, label=\"true ratings\")\n",
    "plt.hist(Y_restored.flatten(), bins=100, color='C0', alpha=0.7, label=\"restored ratings\")\n",
    "plt.xlabel('ratings')\n",
    "plt.ylabel('frequency')\n",
    "plt.grid(alpha=0.5)\n",
    "plt.legend()\n",
    "plt.legend(loc=\"upper right\");"
   ]
  },
  {
   "cell_type": "markdown",
   "metadata": {},
   "source": [
    "## General MNAR with max_rank=8"
   ]
  },
  {
   "cell_type": "code",
   "execution_count": 6,
   "metadata": {},
   "outputs": [
    {
     "name": "stdout",
     "output_type": "stream",
     "text": [
      "RMSE: 0.0532±0.012\n",
      "MAE: 0.0215±0.006\n"
     ]
    },
    {
     "data": {
      "image/png": "[encoded data removed]",
      "text/plain": [
       "<Figure size 432x288 with 1 Axes>"
      ]
     },
     "metadata": {
      "needs_background": "light"
     },
     "output_type": "display_data"
    }
   ],
   "source": [
    "params = {\n",
    "    'n_neighbors': 1,\n",
    "    # 'weights': 'distance',\n",
    "    'verbose': False,\n",
    "    # 'spectral_t': 0.999,\n",
    "    'max_rank': 8, # --> RMSE ~ 0.10\n",
    "    'min_value': 1,\n",
    "    'max_value': 5,\n",
    "}\n",
    "snn = SyntheticNearestNeighbors(**params)\n",
    "inv_scale = 1 # 1: full resolution, 2: half resolution\n",
    "_, _, latent_movie_matrix = gen.getRatingAndPropensityMatrix_general(inv_scale=inv_scale)\n",
    "RMSEs = []\n",
    "MAEs = []\n",
    "for _ in range(3):\n",
    "    # pass the old latent_movie_matrix so we do not recompute it\n",
    "    # only recompute rating_matrix\n",
    "    rating_matrix, P, latent_movie_matrix = gen.getRatingAndPropensityMatrix_general(\n",
    "        latent_movie_matrix,\n",
    "        inv_scale=inv_scale\n",
    "    )\n",
    "    D = np.random.binomial(1, P)  # not really needed as P[i,j] ∈ {0, 1}\n",
    "    Y = rating_matrix * D\n",
    "    Y[D == 0] = np.nan\n",
    "    Y_restored = snn.fit_transform(Y)\n",
    "    #Y_restored = ridgeNN.RidgeNN(D, Y)\n",
    "    #Y_restored[Y_restored < 1] = 1\n",
    "    #Y_restored[Y_restored > 5] = 5\n",
    "    Error = (rating_matrix - Y_restored).flatten()\n",
    "    RMSEs.append(np.sqrt(np.mean(Error ** 2)))\n",
    "    MAEs.append(np.mean(np.abs(Error)))\n",
    "\n",
    "print(f\"RMSE: {np.mean(RMSEs):.4f}±{np.sqrt(np.var(RMSEs)):.3f}\")\n",
    "print(f\"MAE: {np.mean(MAEs):.4f}±{np.sqrt(np.var(MAEs)):.3f}\")\n",
    "\n",
    "# distribution of true vs restored samples:\n",
    "plt.hist(rating_matrix.flatten(), bins=100, alpha=0.3, label=\"true ratings\")\n",
    "plt.hist(Y_restored.flatten(), bins=100, color='C0', alpha=0.7, label=\"restored ratings\")\n",
    "plt.xlabel('ratings')\n",
    "plt.ylabel('frequency')\n",
    "plt.grid(alpha=0.5)\n",
    "plt.legend()\n",
    "plt.legend(loc=\"upper right\");"
   ]
  }
 ],
 "metadata": {
  "interpreter": {
   "hash": "31f2aee4e71d21fbe5cf8b01ff0e069b9275f58929596ceb00d14d90e3e16cd6"
  },
  "kernelspec": {
   "display_name": "Python 3.8.10 64-bit",
   "language": "python",
   "name": "python3"
  },
  "language_info": {
   "codemirror_mode": {
    "name": "ipython",
    "version": 3
   },
   "file_extension": ".py",
   "mimetype": "text/x-python",
   "name": "python",
   "nbconvert_exporter": "python",
   "pygments_lexer": "ipython3",
   "version": "3.8.10"
  },
  "orig_nbformat": 4
 },
 "nbformat": 4,
 "nbformat_minor": 2
}
