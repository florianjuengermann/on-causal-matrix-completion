{
 "cells": [
  {
   "cell_type": "code",
   "execution_count": 2,
   "metadata": {},
   "outputs": [],
   "source": [
    "from networkx.utils.misc import flatten\n",
    "from snn import SyntheticNearestNeighbors\n",
    "import numpy as np\n",
    "import matplotlib.pyplot as plt\n",
    "import generator as gen\n",
    "import ridgeNN"
   ]
  },
  {
   "cell_type": "markdown",
   "metadata": {},
   "source": [
    "## Limited MNAR"
   ]
  },
  {
   "cell_type": "code",
   "execution_count": 28,
   "metadata": {},
   "outputs": [],
   "source": [
    "params = {\n",
    "    'n_neighbors': 1,\n",
    "    # 'weights': 'distance',\n",
    "    'verbose': False,\n",
    "    # 'spectral_t': 0.999,\n",
    "    #'max_rank': 3, # --> RMSE ~ 0.1\n",
    "    'min_value': 1,\n",
    "    'max_value': 5,\n",
    "}\n",
    "snn = SyntheticNearestNeighbors(**params)"
   ]
  },
  {
   "cell_type": "code",
   "execution_count": 29,
   "metadata": {},
   "outputs": [
    {
     "name": "stdout",
     "output_type": "stream",
     "text": [
      "RMSE: 0.2945±0.026\n",
      "MAE: 0.1337±0.007\n"
     ]
    },
    {
     "data": {
      "image/png": "[encoded data removed]",
      "text/plain": [
       "<Figure size 432x288 with 1 Axes>"
      ]
     },
     "metadata": {
      "needs_background": "light"
     },
     "output_type": "display_data"
    }
   ],
   "source": [
    "rating_matrix, P = gen.getRatingAndPropensityMatrix(inv_scale=2)\n",
    "# sample D:\n",
    "D = np.random.binomial(1, P)\n",
    "\n",
    "RMSEs = []\n",
    "MAEs = []\n",
    "for _ in range(3):\n",
    "    D = np.random.binomial(1, P)\n",
    "    Y = rating_matrix * D\n",
    "    Y[D == 0] = np.nan\n",
    "    Y_restored = snn.fit_transform(Y)\n",
    "    #Y_restored = ridgeNN.RidgeNN(D, Y)\n",
    "    #Y_restored[Y_restored < 1] = 1\n",
    "    #Y_restored[Y_restored > 5] = 5\n",
    "    Error = (rating_matrix - Y_restored).flatten()\n",
    "    RMSEs.append(np.sqrt(np.mean(Error ** 2)))\n",
    "    MAEs.append(np.mean(np.abs(Error)))\n",
    "\n",
    "print(f\"RMSE: {np.mean(RMSEs):.4f}±{np.sqrt(np.var(RMSEs)):.3f}\")\n",
    "print(f\"MAE: {np.mean(MAEs):.4f}±{np.sqrt(np.var(MAEs)):.3f}\")\n",
    "# distribution of true vs restored samples:\n",
    "plt.hist(rating_matrix.flatten(), bins=100, alpha=0.3, label=\"true ratings\")\n",
    "plt.hist(Y_restored.flatten(), bins=100, color='C0', alpha=0.7, label=\"restored ratings\")\n",
    "plt.xlabel('ratings')\n",
    "plt.ylabel('frequency')\n",
    "plt.grid(alpha=0.5)\n",
    "plt.legend()\n",
    "plt.legend(loc=\"upper right\");"
   ]
  },
  {
   "cell_type": "markdown",
   "metadata": {},
   "source": [
    "## General MNAR"
   ]
  },
  {
   "cell_type": "code",
   "execution_count": 31,
   "metadata": {},
   "outputs": [],
   "source": [
    "params = {\n",
    "    'n_neighbors': 1,\n",
    "    # 'weights': 'distance',\n",
    "    'verbose': False,\n",
    "    # 'spectral_t': 0.999,\n",
    "    #'max_rank': 6, # --> RMSE ~ 0.15\n",
    "    'min_value': 1,\n",
    "    'max_value': 5,\n",
    "}\n",
    "snn = SyntheticNearestNeighbors(**params)"
   ]
  },
  {
   "cell_type": "code",
   "execution_count": 30,
   "metadata": {},
   "outputs": [
    {
     "name": "stdout",
     "output_type": "stream",
     "text": [
      "RMSE: 0.6926±0.035\n",
      "MAE: 0.3913±0.020\n"
     ]
    },
    {
     "data": {
      "image/png": "[encoded data removed]",
      "text/plain": [
       "<Figure size 432x288 with 1 Axes>"
      ]
     },
     "metadata": {
      "needs_background": "light"
     },
     "output_type": "display_data"
    }
   ],
   "source": [
    "_, _, latent_movie_matrix = gen.getRatingAndPropensityMatrix_general(inv_scale=2)\n",
    "RMSEs = []\n",
    "MAEs = []\n",
    "for _ in range(3):\n",
    "    # pass the old latent_movie_matrix so we do not recompute it\n",
    "    # only recompute rating_matrix\n",
    "    rating_matrix, P, latent_movie_matrix = gen.getRatingAndPropensityMatrix_general(\n",
    "        latent_movie_matrix)\n",
    "    D = np.random.binomial(1, P)  # not really needed as P[i,j] ∈ {0, 1}\n",
    "    Y = rating_matrix * D\n",
    "    Y[D == 0] = np.nan\n",
    "    Y_restored = snn.fit_transform(Y)\n",
    "    #Y_restored = ridgeNN.RidgeNN(D, Y)\n",
    "    #Y_restored[Y_restored < 1] = 1\n",
    "    #Y_restored[Y_restored > 5] = 5\n",
    "    Error = (rating_matrix - Y_restored).flatten()\n",
    "    RMSEs.append(np.sqrt(np.mean(Error ** 2)))\n",
    "    MAEs.append(np.mean(np.abs(Error)))\n",
    "\n",
    "print(f\"RMSE: {np.mean(RMSEs):.4f}±{np.sqrt(np.var(RMSEs)):.3f}\")\n",
    "print(f\"MAE: {np.mean(MAEs):.4f}±{np.sqrt(np.var(MAEs)):.3f}\")\n",
    "\n",
    "# distribution of true vs restored samples:\n",
    "plt.hist(rating_matrix.flatten(), bins=100, alpha=0.3, label=\"true ratings\")\n",
    "plt.hist(Y_restored.flatten(), bins=100, color='C0', alpha=0.7, label=\"restored ratings\")\n",
    "plt.xlabel('ratings')\n",
    "plt.ylabel('frequency')\n",
    "plt.grid(alpha=0.5)\n",
    "plt.legend()\n",
    "plt.legend(loc=\"upper right\");"
   ]
  }
 ],
 "metadata": {
  "interpreter": {
   "hash": "31f2aee4e71d21fbe5cf8b01ff0e069b9275f58929596ceb00d14d90e3e16cd6"
  },
  "kernelspec": {
   "display_name": "Python 3.8.10 64-bit",
   "language": "python",
   "name": "python3"
  },
  "language_info": {
   "codemirror_mode": {
    "name": "ipython",
    "version": 3
   },
   "file_extension": ".py",
   "mimetype": "text/x-python",
   "name": "python",
   "nbconvert_exporter": "python",
   "pygments_lexer": "ipython3",
   "version": "3.8.10"
  },
  "orig_nbformat": 4
 },
 "nbformat": 4,
 "nbformat_minor": 2
}
