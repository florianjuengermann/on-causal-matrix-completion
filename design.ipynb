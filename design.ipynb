{
 "cells": [
  {
   "cell_type": "code",
   "execution_count": 3,
   "metadata": {},
   "outputs": [],
   "source": [
    "import numpy as np\n",
    "import matplotlib.pyplot as plt\n",
    "from src import generator as gen\n",
    "from src.estimators import SNNEstimator, RidgeEstimator, LassoEstimator, GapEstimator\n",
    "from src.general_snn import general_snn_multi_est\n",
    "from src import anchor_matrix as am\n",
    "from joblib import dump, load\n",
    "import os"
   ]
  },
  {
   "cell_type": "markdown",
   "metadata": {},
   "source": [
    "# Design Studies"
   ]
  },
  {
   "cell_type": "markdown",
   "metadata": {},
   "source": [
    "## 1. $\\alpha$"
   ]
  },
  {
   "cell_type": "markdown",
   "metadata": {},
   "source": [
    "### General MNAR"
   ]
  },
  {
   "cell_type": "code",
   "execution_count": 11,
   "metadata": {},
   "outputs": [
    {
     "data": {
      "text/plain": [
       "['./design_results/alphas_GMNAR.joblib']"
      ]
     },
     "execution_count": 11,
     "metadata": {},
     "output_type": "execute_result"
    }
   ],
   "source": [
    "alphas = [0.01, 1, 10]\n",
    "methods = ['PCR', 'Ridge', 'Lasso']\n",
    "\n",
    "res_GMNAR = {}\n",
    "\n",
    "N_sim = 5\n",
    "\n",
    "estimators = [GapEstimator(avg_method=\"column\", estimator=SNNEstimator()),\n",
    "              GapEstimator(avg_method=\"column\", estimator=RidgeEstimator()),\n",
    "              GapEstimator(avg_method=\"column\", estimator=LassoEstimator())]\n",
    "\n",
    "for method in methods:\n",
    "    res_GMNAR[method] = {}\n",
    "    \n",
    "    for alpha in alphas:\n",
    "        res_GMNAR[method][str(alpha)] = {'MAE' : [], 'RMSE' : []}\n",
    "\n",
    "for alpha in alphas:\n",
    "    for _ in range(N_sim):   \n",
    "        rating_matrix, P, latent_movie_matrix = gen.getRatingAndPropensityMatrix_general(inv_scale=1, alpha = alpha)\n",
    "        D = np.random.binomial(1, P)\n",
    "        Y = rating_matrix * D\n",
    "        Y[D == 0] = np.nan\n",
    "        for est in estimators: \n",
    "            est.prepare(Y, D)\n",
    "        Y_r = general_snn_multi_est(\n",
    "          D, Y,\n",
    "          estimators=estimators,\n",
    "          biclique_search=am.whole_matrix,\n",
    "          num_estimates=1,\n",
    "          min_val=1, max_val=5,\n",
    "          print_progress=True\n",
    "        )\n",
    "\n",
    "        error = {'PCR' : (rating_matrix - Y_r[0]).flatten(), \n",
    "                 'Ridge' : (rating_matrix - Y_r[1]).flatten(), \n",
    "                 'Lasso' : (rating_matrix - Y_r[2]).flatten()}\n",
    "\n",
    "        for method in methods:\n",
    "            res_GMNAR[method][str(alpha)]['MAE'].append(np.mean(np.abs(error[method])))\n",
    "            res_GMNAR[method][str(alpha)]['RMSE'].append(np.sqrt(np.mean(error[method] ** 2)))\n",
    "\n",
    "path = './design_results'\n",
    "\n",
    "if not os.path.exists(path):\n",
    "    os.makedirs(path)\n",
    "            \n",
    "dump(res_GMNAR, path + '/alphas_GMNAR.joblib')"
   ]
  },
  {
   "cell_type": "code",
   "execution_count": 13,
   "metadata": {},
   "outputs": [],
   "source": [
    "res_GMNAR = load('./design_results/alphas_GMNAR.joblib')\n",
    "\n",
    "with open(\"./design_results/alphas_GMNAR.tex\", \"w\") as f:\n",
    "    \n",
    "    f.write(\"\\\\begin{tabular}{l*{6}{c}} \\n\" +\n",
    "            \"\\\\toprule \\n\" +\n",
    "            \"& \\\\multicolumn{2}{c}{PCR} & \\\\multicolumn{2}{c}{Ridge} & \\\\multicolumn{2}{c}{LASSO} \\\\\\\\ \\n\" +\n",
    "            \"\\\\cmidrule(lr){2-3} \\\\cmidrule(lr){4-5} \\\\cmidrule(lr){6-7} \\n\" +\n",
    "            \"& MAE & RMSE & MAE & RMSE & MAE & RMSE \\\\\\\\ \\n\" + \n",
    "            \"\\\\midrule \\n \\\\addlinespace \\n\")\n",
    "    \n",
    "    f.write(\"\\\\addlinespace \\n $\\\\alpha$ & \\\\multicolumn{6}{l}{\\\\textbf{Dirichlet Concentration Param.}} \\\\\\\\ \\n \\\\addlinespace \\n\")\n",
    "    for alpha in alphas:\n",
    "        \n",
    "        f.write(str(alpha) + \" & \")\n",
    "        \n",
    "        f.write(\" & \".join([\"${:.3f} \\\\pm {:.3f}$ & ${:.3f} \\\\pm {:.3f}$\".format(np.mean(res_GMNAR[method][str(alpha)]['MAE']),\n",
    "                                                                           np.std(res_GMNAR[method][str(alpha)]['MAE'])/np.sqrt(N_sim),\n",
    "                                                                           np.mean(res_GMNAR[method][str(alpha)]['RMSE']),\n",
    "                                                                           np.std(res_GMNAR[method][str(alpha)]['RMSE'])/np.sqrt(N_sim)) for method in methods]))\n",
    "        f.write(\" \\\\\\\\ \\n\")\n",
    "\n",
    "    f.write(\"\\\\bottomrule \\n \\\\end{tabular}\")"
   ]
  },
  {
   "cell_type": "markdown",
   "metadata": {},
   "source": [
    "## 2. $r$"
   ]
  },
  {
   "cell_type": "code",
   "execution_count": 4,
   "metadata": {},
   "outputs": [
    {
     "name": "stdout",
     "output_type": "stream",
     "text": [
      "\r",
      " 0/80"
     ]
    },
    {
     "ename": "AttributeError",
     "evalue": "'NoneType' object has no attribute 'predict'",
     "output_type": "error",
     "traceback": [
      "\u001b[0;31m---------------------------------------------------------------------------\u001b[0m",
      "\u001b[0;31mAttributeError\u001b[0m                            Traceback (most recent call last)",
      "\u001b[0;32m<ipython-input-4-ce0133c5400d>\u001b[0m in \u001b[0;36m<module>\u001b[0;34m\u001b[0m\n\u001b[1;32m     23\u001b[0m         \u001b[0mY\u001b[0m\u001b[0;34m[\u001b[0m\u001b[0mD\u001b[0m \u001b[0;34m==\u001b[0m \u001b[0;36m0\u001b[0m\u001b[0;34m]\u001b[0m \u001b[0;34m=\u001b[0m \u001b[0mnp\u001b[0m\u001b[0;34m.\u001b[0m\u001b[0mnan\u001b[0m\u001b[0;34m\u001b[0m\u001b[0;34m\u001b[0m\u001b[0m\n\u001b[1;32m     24\u001b[0m         \u001b[0mestimators\u001b[0m \u001b[0;34m=\u001b[0m \u001b[0;34m[\u001b[0m\u001b[0mest\u001b[0m\u001b[0;34m.\u001b[0m\u001b[0mprepare\u001b[0m\u001b[0;34m(\u001b[0m\u001b[0mY\u001b[0m\u001b[0;34m,\u001b[0m \u001b[0mD\u001b[0m\u001b[0;34m)\u001b[0m \u001b[0;32mfor\u001b[0m \u001b[0mest\u001b[0m \u001b[0;32min\u001b[0m \u001b[0mestimators\u001b[0m\u001b[0;34m]\u001b[0m\u001b[0;34m\u001b[0m\u001b[0;34m\u001b[0m\u001b[0m\n\u001b[0;32m---> 25\u001b[0;31m         Y_r = general_snn_multi_est(\n\u001b[0m\u001b[1;32m     26\u001b[0m           \u001b[0mD\u001b[0m\u001b[0;34m,\u001b[0m \u001b[0mY\u001b[0m\u001b[0;34m,\u001b[0m\u001b[0;34m\u001b[0m\u001b[0;34m\u001b[0m\u001b[0m\n\u001b[1;32m     27\u001b[0m           \u001b[0mestimators\u001b[0m\u001b[0;34m=\u001b[0m\u001b[0mestimators\u001b[0m\u001b[0;34m,\u001b[0m\u001b[0;34m\u001b[0m\u001b[0;34m\u001b[0m\u001b[0m\n",
      "\u001b[0;32m~/Research/GitHub/florian/on-causal-matrix-completion/src/general_snn.py\u001b[0m in \u001b[0;36mgeneral_snn_multi_est\u001b[0;34m(D, Y, estimators, biclique_search, num_estimates, min_val, max_val, print_progress)\u001b[0m\n\u001b[1;32m     39\u001b[0m         \u001b[0;32mfor\u001b[0m \u001b[0mj\u001b[0m \u001b[0;32min\u001b[0m \u001b[0mrange\u001b[0m\u001b[0;34m(\u001b[0m\u001b[0mA\u001b[0m\u001b[0;34m.\u001b[0m\u001b[0mshape\u001b[0m\u001b[0;34m[\u001b[0m\u001b[0;36m1\u001b[0m\u001b[0;34m]\u001b[0m\u001b[0;34m)\u001b[0m\u001b[0;34m:\u001b[0m\u001b[0;34m\u001b[0m\u001b[0;34m\u001b[0m\u001b[0m\n\u001b[1;32m     40\u001b[0m             \u001b[0;32mif\u001b[0m \u001b[0;32mnot\u001b[0m \u001b[0mD\u001b[0m\u001b[0;34m[\u001b[0m\u001b[0mi\u001b[0m\u001b[0;34m,\u001b[0m \u001b[0mj\u001b[0m\u001b[0;34m]\u001b[0m\u001b[0;34m:\u001b[0m\u001b[0;34m\u001b[0m\u001b[0;34m\u001b[0m\u001b[0m\n\u001b[0;32m---> 41\u001b[0;31m                 A[i, j] = general_snn_multi_est_ij(\n\u001b[0m\u001b[1;32m     42\u001b[0m                     D, Y, i, j, num_estimates, biclique_search, estimators)\n\u001b[1;32m     43\u001b[0m     \u001b[0;32mif\u001b[0m \u001b[0mprint_progress\u001b[0m\u001b[0;34m:\u001b[0m\u001b[0;34m\u001b[0m\u001b[0;34m\u001b[0m\u001b[0m\n",
      "\u001b[0;32m~/Research/GitHub/florian/on-causal-matrix-completion/src/general_snn.py\u001b[0m in \u001b[0;36mgeneral_snn_multi_est_ij\u001b[0;34m(D, Y, i, j, num_estimates, biclique_search, estimators)\u001b[0m\n\u001b[1;32m     16\u001b[0m \u001b[0;34m\u001b[0m\u001b[0m\n\u001b[1;32m     17\u001b[0m         \u001b[0;32mfor\u001b[0m \u001b[0mest_id\u001b[0m \u001b[0;32min\u001b[0m \u001b[0mrange\u001b[0m\u001b[0;34m(\u001b[0m\u001b[0mlen\u001b[0m\u001b[0;34m(\u001b[0m\u001b[0mestimators\u001b[0m\u001b[0;34m)\u001b[0m\u001b[0;34m)\u001b[0m\u001b[0;34m:\u001b[0m\u001b[0;34m\u001b[0m\u001b[0;34m\u001b[0m\u001b[0m\n\u001b[0;32m---> 18\u001b[0;31m             \u001b[0mest\u001b[0m \u001b[0;34m=\u001b[0m \u001b[0mestimators\u001b[0m\u001b[0;34m[\u001b[0m\u001b[0mest_id\u001b[0m\u001b[0;34m]\u001b[0m\u001b[0;34m.\u001b[0m\u001b[0mpredict\u001b[0m\u001b[0;34m(\u001b[0m\u001b[0mS\u001b[0m\u001b[0;34m,\u001b[0m \u001b[0mx\u001b[0m\u001b[0;34m,\u001b[0m \u001b[0mq\u001b[0m\u001b[0;34m,\u001b[0m \u001b[0mind_row\u001b[0m\u001b[0;34m,\u001b[0m \u001b[0mind_col\u001b[0m\u001b[0;34m)\u001b[0m\u001b[0;34m\u001b[0m\u001b[0;34m\u001b[0m\u001b[0m\n\u001b[0m\u001b[1;32m     19\u001b[0m             \u001b[0mestimates\u001b[0m\u001b[0;34m[\u001b[0m\u001b[0mest_id\u001b[0m\u001b[0;34m]\u001b[0m\u001b[0;34m.\u001b[0m\u001b[0mappend\u001b[0m\u001b[0;34m(\u001b[0m\u001b[0mest\u001b[0m\u001b[0;34m)\u001b[0m\u001b[0;34m\u001b[0m\u001b[0;34m\u001b[0m\u001b[0m\n\u001b[1;32m     20\u001b[0m     \u001b[0;32mreturn\u001b[0m \u001b[0mnp\u001b[0m\u001b[0;34m.\u001b[0m\u001b[0mmean\u001b[0m\u001b[0;34m(\u001b[0m\u001b[0mestimates\u001b[0m\u001b[0;34m,\u001b[0m \u001b[0maxis\u001b[0m\u001b[0;34m=\u001b[0m\u001b[0;36m1\u001b[0m\u001b[0;34m)\u001b[0m  \u001b[0;31m# avg for each estimator\u001b[0m\u001b[0;34m\u001b[0m\u001b[0;34m\u001b[0m\u001b[0m\n",
      "\u001b[0;31mAttributeError\u001b[0m: 'NoneType' object has no attribute 'predict'"
     ]
    }
   ],
   "source": [
    "rs = [2, 5, 20]\n",
    "methods = ['PCR', 'Ridge', 'Lasso']\n",
    "\n",
    "res_GMNAR = {}\n",
    "\n",
    "N_sim = 5\n",
    "\n",
    "estimators = [GapEstimator(avg_method=\"column\", estimator=SNNEstimator()),\n",
    "              GapEstimator(avg_method=\"column\", estimator=RidgeEstimator()),\n",
    "              GapEstimator(avg_method=\"column\", estimator=LassoEstimator())]\n",
    "\n",
    "for method in methods:\n",
    "    res_GMNAR[method] = {}\n",
    "    \n",
    "    for r in rs:\n",
    "        res_GMNAR[method][str(r)] = {'MAE' : [], 'RMSE' : []}\n",
    "\n",
    "for r in rs:\n",
    "    for _ in range(N_sim):   \n",
    "        rating_matrix, P, latent_movie_matrix = gen.getRatingAndPropensityMatrix_general(inv_scale=1, r = r)\n",
    "        D = np.random.binomial(1, P)\n",
    "        Y = rating_matrix * D\n",
    "        Y[D == 0] = np.nan\n",
    "        for est in estimators: \n",
    "            est.prepare(Y, D)\n",
    "        Y_r = general_snn_multi_est(\n",
    "          D, Y,\n",
    "          estimators=estimators,\n",
    "          biclique_search=am.whole_matrix,\n",
    "          num_estimates=1,\n",
    "          min_val=1, max_val=5,\n",
    "          print_progress=True\n",
    "        )\n",
    "\n",
    "        error = {'PCR' : (rating_matrix - Y_r[0]).flatten(), \n",
    "                 'Ridge' : (rating_matrix - Y_r[1]).flatten(), \n",
    "                 'Lasso' : (rating_matrix - Y_r[2]).flatten()}\n",
    "\n",
    "        for method in methods:\n",
    "            res_GMNAR[method][str(r)]['MAE'].append(np.mean(np.abs(error[method])))\n",
    "            res_GMNAR[method][str(r)]['RMSE'].append(np.sqrt(np.mean(error[method] ** 2)))\n",
    "\n",
    "path = './design_results'\n",
    "\n",
    "if not os.path.exists(path):\n",
    "    os.makedirs(path)\n",
    "            \n",
    "dump(res_GMNAR, path + '/r_GMNAR.joblib')"
   ]
  },
  {
   "cell_type": "code",
   "execution_count": null,
   "metadata": {},
   "outputs": [],
   "source": [
    "res_GMNAR = load('./design_results/r_GMNAR.joblib')\n",
    "\n",
    "with open(\"./design_results/r_GMNAR.tex\", \"w\") as f:\n",
    "    \n",
    "    f.write(\"\\\\begin{tabular}{l*{6}{c}} \\n\" +\n",
    "            \"\\\\toprule \\n\" +\n",
    "            \"& \\\\multicolumn{2}{c}{PCR} & \\\\multicolumn{2}{c}{Ridge} & \\\\multicolumn{2}{c}{LASSO} \\\\\\\\ \\n\" +\n",
    "            \"\\\\cmidrule(lr){2-3} \\\\cmidrule(lr){4-5} \\\\cmidrule(lr){6-7} \\n\" +\n",
    "            \"& MAE & RMSE & MAE & RMSE & MAE & RMSE \\\\\\\\ \\n\" + \n",
    "            \"\\\\midrule \\n \\\\addlinespace \\n\")\n",
    "    \n",
    "    f.write(\"\\\\addlinespace \\n $r$ & \\\\multicolumn{6}{l}{\\\\textbf{Dimension of Latent Variables}} \\\\\\\\ \\n \\\\addlinespace \\n\")\n",
    "    for r in rs:\n",
    "        \n",
    "        f.write(str(r) + \" & \")\n",
    "        \n",
    "        f.write(\" & \".join([\"${:.3f} \\\\pm {:.3f}$ & ${:.3f} \\\\pm {:.3f}$\".format(np.mean(res_GMNAR[method][str(r)]['MAE']),\n",
    "                                                                           np.std(res_GMNAR[method][str(r)]['MAE'])/np.sqrt(N_sim),\n",
    "                                                                           np.mean(res_GMNAR[method][str(r)]['RMSE']),\n",
    "                                                                           np.std(res_GMNAR[method][str(r)]['RMSE'])/np.sqrt(N_sim)) for method in methods]))\n",
    "        f.write(\" \\\\\\\\ \\n\")\n",
    "\n",
    "    f.write(\"\\\\bottomrule \\n \\\\end{tabular}\")"
   ]
  },
  {
   "cell_type": "code",
   "execution_count": null,
   "metadata": {},
   "outputs": [],
   "source": []
  }
 ],
 "metadata": {
  "interpreter": {
   "hash": "31f2aee4e71d21fbe5cf8b01ff0e069b9275f58929596ceb00d14d90e3e16cd6"
  },
  "kernelspec": {
   "display_name": "Python 3",
   "language": "python",
   "name": "python3"
  },
  "language_info": {
   "codemirror_mode": {
    "name": "ipython",
    "version": 3
   },
   "file_extension": ".py",
   "mimetype": "text/x-python",
   "name": "python",
   "nbconvert_exporter": "python",
   "pygments_lexer": "ipython3",
   "version": "3.8.10"
  }
 },
 "nbformat": 4,
 "nbformat_minor": 2
}
