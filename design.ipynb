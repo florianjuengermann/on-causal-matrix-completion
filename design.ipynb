{
 "cells": [
  {
   "cell_type": "code",
   "execution_count": 10,
   "metadata": {},
   "outputs": [],
   "source": [
    "from networkx.utils.misc import flatten\n",
    "from alt_reg import CMC_alt_reg\n",
    "import numpy as np\n",
    "import matplotlib.pyplot as plt\n",
    "import generator as gen\n",
    "import ridgeNN\n",
    "from joblib import dump, load"
   ]
  },
  {
   "cell_type": "markdown",
   "metadata": {},
   "source": [
    "# Design Studies"
   ]
  },
  {
   "cell_type": "markdown",
   "metadata": {},
   "source": [
    "## 1. $\\alpha$"
   ]
  },
  {
   "cell_type": "markdown",
   "metadata": {},
   "source": [
    "### General MNAR"
   ]
  },
  {
   "cell_type": "code",
   "execution_count": 11,
   "metadata": {},
   "outputs": [
    {
     "data": {
      "text/plain": [
       "['./design_results/alphas_GMNAR.joblib']"
      ]
     },
     "execution_count": 11,
     "metadata": {},
     "output_type": "execute_result"
    }
   ],
   "source": [
    "alphas = [0.01, 1, 10]\n",
    "methods = ['PCR', 'Ridge', 'Lasso']\n",
    "\n",
    "res_GMNAR = {}\n",
    "\n",
    "N_sim = 5\n",
    "\n",
    "for method in methods:\n",
    "    res_GMNAR[method] = {}\n",
    "    \n",
    "    for alpha in alphas:\n",
    "        res_GMNAR[method][str(alpha)] = {'MAE' : [], 'RMSE' : []}\n",
    "\n",
    "for alpha in alphas:\n",
    "    for _ in range(N_sim):   \n",
    "        rating_matrix, P, latent_movie_matrix = gen.getRatingAndPropensityMatrix_general(inv_scale=1, alpha = alpha)\n",
    "        D = np.random.binomial(1, P)\n",
    "        Y = rating_matrix * D\n",
    "        Y[D == 0] = np.nan\n",
    "\n",
    "        params = {'reg_adap': 0.001,\n",
    "                  'min_value': 1,\n",
    "                  'max_value': 5,\n",
    "                  'verbose': False}\n",
    "\n",
    "        snn = CMC_alt_reg(**params)\n",
    "        Y_PCR, Y_Ridge, Y_Lasso = snn.fit_transform(D, Y, fast = True)\n",
    "\n",
    "        error = {'PCR' : (rating_matrix - Y_PCR).flatten(), \n",
    "                 'Ridge' : (rating_matrix - Y_Ridge).flatten(), \n",
    "                 'Lasso' : (rating_matrix - Y_Lasso).flatten()}\n",
    "\n",
    "        for method in methods:\n",
    "            res_GMNAR[method][str(alpha)]['MAE'].append(np.mean(np.abs(error[method])))\n",
    "            res_GMNAR[method][str(alpha)]['RMSE'].append(np.sqrt(np.mean(error[method] ** 2)))\n",
    "            \n",
    "dump(res_GMNAR, './design_results/alphas_GMNAR.joblib')"
   ]
  },
  {
   "cell_type": "code",
   "execution_count": 13,
   "metadata": {},
   "outputs": [],
   "source": [
    "res_GMNAR = load('./design_results/alphas_GMNAR.joblib')\n",
    "\n",
    "with open(\"./design_results/alphas_GMNAR.tex\", \"w\") as f:\n",
    "    \n",
    "    f.write(\"\\\\begin{tabular}{l*{6}{c}} \\n\" +\n",
    "            \"\\\\toprule \\n\" +\n",
    "            \"& \\\\multicolumn{2}{c}{PCR} & \\\\multicolumn{2}{c}{Ridge} & \\\\multicolumn{2}{c}{LASSO} \\\\\\\\ \\n\" +\n",
    "            \"\\\\cmidrule(lr){2-3} \\\\cmidrule(lr){4-5} \\\\cmidrule(lr){6-7} \\n\" +\n",
    "            \"& MAE & RMSE & MAE & RMSE & MAE & RMSE \\\\\\\\ \\n\" + \n",
    "            \"\\\\midrule \\n \\\\addlinespace \\n\")\n",
    "    \n",
    "    f.write(\"\\\\addlinespace \\n $\\\\alpha$ & \\\\multicolumn{6}{l}{\\\\textbf{Dirichlet Concentration Param.}} \\\\\\\\ \\n \\\\addlinespace \\n\")\n",
    "    for alpha in alphas:\n",
    "        \n",
    "        f.write(str(alpha) + \" & \")\n",
    "        \n",
    "        f.write(\" & \".join([\"${:.3f} \\\\pm {:.3f}$ & ${:.3f} \\\\pm {:.3f}$\".format(np.mean(res_GMNAR[method][str(alpha)]['MAE']),\n",
    "                                                                           np.std(res_GMNAR[method][str(alpha)]['MAE'])/np.sqrt(N_sim),\n",
    "                                                                           np.mean(res_GMNAR[method][str(alpha)]['RMSE']),\n",
    "                                                                           np.std(res_GMNAR[method][str(alpha)]['RMSE'])/np.sqrt(N_sim)) for method in methods]))\n",
    "        f.write(\" \\\\\\\\ \\n\")\n",
    "\n",
    "    f.write(\"\\\\bottomrule \\n \\\\end{tabular}\")"
   ]
  },
  {
   "cell_type": "markdown",
   "metadata": {},
   "source": [
    "## 2. $r$"
   ]
  },
  {
   "cell_type": "code",
   "execution_count": null,
   "metadata": {},
   "outputs": [],
   "source": [
    "rs = [2, 5, 20]\n",
    "methods = ['PCR', 'Ridge', 'Lasso']\n",
    "\n",
    "res_GMNAR = {}\n",
    "\n",
    "N_sim = 5\n",
    "\n",
    "for method in methods:\n",
    "    res_GMNAR[method] = {}\n",
    "    \n",
    "    for r in rs:\n",
    "        res_GMNAR[method][str(r)] = {'MAE' : [], 'RMSE' : []}\n",
    "\n",
    "for r in rs:\n",
    "    for _ in range(N_sim):   \n",
    "        rating_matrix, P, latent_movie_matrix = gen.getRatingAndPropensityMatrix_general(inv_scale=1, r = r)\n",
    "        D = np.random.binomial(1, P)\n",
    "        Y = rating_matrix * D\n",
    "        Y[D == 0] = np.nan\n",
    "\n",
    "        params = {'reg_adap': 0.001,\n",
    "                  'min_value': 1,\n",
    "                  'max_value': 5,\n",
    "                  'verbose': False}\n",
    "\n",
    "        snn = CMC_alt_reg(**params)\n",
    "        Y_PCR, Y_Ridge, Y_Lasso = snn.fit_transform(D, Y, fast = True)\n",
    "\n",
    "        error = {'PCR' : (rating_matrix - Y_PCR).flatten(), \n",
    "                 'Ridge' : (rating_matrix - Y_Ridge).flatten(), \n",
    "                 'Lasso' : (rating_matrix - Y_Lasso).flatten()}\n",
    "\n",
    "        for method in methods:\n",
    "            res_GMNAR[method][str(r)]['MAE'].append(np.mean(np.abs(error[method])))\n",
    "            res_GMNAR[method][str(r)]['RMSE'].append(np.sqrt(np.mean(error[method] ** 2)))\n",
    "            \n",
    "dump(res_GMNAR, './design_results/r_GMNAR.joblib')"
   ]
  },
  {
   "cell_type": "code",
   "execution_count": null,
   "metadata": {},
   "outputs": [],
   "source": [
    "res_GMNAR = load('./design_results/r_GMNAR.joblib')\n",
    "\n",
    "with open(\"./design_results/r_GMNAR.tex\", \"w\") as f:\n",
    "    \n",
    "    f.write(\"\\\\begin{tabular}{l*{6}{c}} \\n\" +\n",
    "            \"\\\\toprule \\n\" +\n",
    "            \"& \\\\multicolumn{2}{c}{PCR} & \\\\multicolumn{2}{c}{Ridge} & \\\\multicolumn{2}{c}{LASSO} \\\\\\\\ \\n\" +\n",
    "            \"\\\\cmidrule(lr){2-3} \\\\cmidrule(lr){4-5} \\\\cmidrule(lr){6-7} \\n\" +\n",
    "            \"& MAE & RMSE & MAE & RMSE & MAE & RMSE \\\\\\\\ \\n\" + \n",
    "            \"\\\\midrule \\n \\\\addlinespace \\n\")\n",
    "    \n",
    "    f.write(\"\\\\addlinespace \\n $r$ & \\\\multicolumn{6}{l}{\\\\textbf{Dimension of Latent Variables}} \\\\\\\\ \\n \\\\addlinespace \\n\")\n",
    "    for r in rs:\n",
    "        \n",
    "        f.write(str(r) + \" & \")\n",
    "        \n",
    "        f.write(\" & \".join([\"${:.3f} \\\\pm {:.3f}$ & ${:.3f} \\\\pm {:.3f}$\".format(np.mean(res_GMNAR[method][str(r)]['MAE']),\n",
    "                                                                           np.std(res_GMNAR[method][str(r)]['MAE'])/np.sqrt(N_sim),\n",
    "                                                                           np.mean(res_GMNAR[method][str(r)]['RMSE']),\n",
    "                                                                           np.std(res_GMNAR[method][str(r)]['RMSE'])/np.sqrt(N_sim)) for method in methods]))\n",
    "        f.write(\" \\\\\\\\ \\n\")\n",
    "\n",
    "    f.write(\"\\\\bottomrule \\n \\\\end{tabular}\")"
   ]
  },
  {
   "cell_type": "code",
   "execution_count": null,
   "metadata": {},
   "outputs": [],
   "source": []
  }
 ],
 "metadata": {
  "interpreter": {
   "hash": "31f2aee4e71d21fbe5cf8b01ff0e069b9275f58929596ceb00d14d90e3e16cd6"
  },
  "kernelspec": {
   "display_name": "Python 3",
   "language": "python",
   "name": "python3"
  },
  "language_info": {
   "codemirror_mode": {
    "name": "ipython",
    "version": 3
   },
   "file_extension": ".py",
   "mimetype": "text/x-python",
   "name": "python",
   "nbconvert_exporter": "python",
   "pygments_lexer": "ipython3",
   "version": "3.8.10"
  }
 },
 "nbformat": 4,
 "nbformat_minor": 2
}
