{
 "cells": [
  {
   "cell_type": "code",
   "execution_count": 59,
   "metadata": {},
   "outputs": [],
   "source": [
    "import numpy as np\n",
    "import matplotlib\n",
    "import matplotlib.pyplot as plt\n",
    "import importlib\n",
    "import tikzplotlib\n",
    "\n",
    "\n",
    "from src import anchor_matrix\n",
    "\n",
    "#plt.style.use(\"ggplot\")"
   ]
  },
  {
   "cell_type": "code",
   "execution_count": 102,
   "metadata": {},
   "outputs": [
    {
     "data": {
      "image/png": "[encoded data removed]",
      "text/plain": [
       "<Figure size 432x288 with 1 Axes>"
      ]
     },
     "metadata": {
      "needs_background": "light"
     },
     "output_type": "display_data"
    }
   ],
   "source": [
    "def genBenchmarkMatrix(n=40):\n",
    "  rng = np.random.default_rng(0)\n",
    "  M = rng.integers(low=0, high=(10+1), size=(n,n))\n",
    "  return M > 3\n",
    "\n",
    "M = genBenchmarkMatrix()\n",
    "plt.spy(M);"
   ]
  },
  {
   "cell_type": "code",
   "execution_count": 3,
   "metadata": {},
   "outputs": [],
   "source": [
    "importlib.reload(anchor_matrix);"
   ]
  },
  {
   "cell_type": "code",
   "execution_count": 104,
   "metadata": {},
   "outputs": [
    {
     "name": "stdout",
     "output_type": "stream",
     "text": [
      "276554\n"
     ]
    }
   ],
   "source": [
    "c = anchor_matrix._biclique_find_all(M)\n",
    "print(len(c))"
   ]
  },
  {
   "cell_type": "code",
   "execution_count": 108,
   "metadata": {},
   "outputs": [
    {
     "name": "stdout",
     "output_type": "stream",
     "text": [
      "8 at 508/276554 (0.0018368926141006819)\n"
     ]
    },
    {
     "data": {
      "image/png": "[encoded data removed]",
      "text/plain": [
       "<Figure size 432x288 with 1 Axes>"
      ]
     },
     "metadata": {
      "needs_background": "light"
     },
     "output_type": "display_data"
    }
   ],
   "source": [
    "smallerSize = np.array([min(len(R), len(C)) for R, C in c])\n",
    "\n",
    "mx = np.max(smallerSize)\n",
    "cnt = np.sum(smallerSize == mx)\n",
    "print(f\"{mx} at {cnt}/{len(smallerSize)} ({cnt/len(smallerSize)})\")\n",
    "\n",
    "plt.hist(smallerSize, density=True, bins=np.arange(0, mx+1), label=list(map(str, np.arange(0, mx+1))))\n",
    "#plt.grid(alpha=0.5)\n",
    "#plt.title(\"Distribution of maximal biclique sizes\")\n",
    "plt.xlabel(\"Size of smaller group\")\n",
    "plt.ylabel(\"Number of bicliques (relative)\")\n",
    "\n",
    "tikzplotlib.save(\"data/distr_biclique_size.tex\")"
   ]
  },
  {
   "cell_type": "code",
   "execution_count": 99,
   "metadata": {},
   "outputs": [],
   "source": [
    "all_cliques = list(anchor_matrix._biclique_find_all_networkx(M))\n",
    "smallerSize = [min(len(R), len(C)) for R, C in all_cliques]\n",
    "bestInd = np.argmax(smallerSize)\n",
    "best_clique = all_cliques[bestInd]"
   ]
  },
  {
   "cell_type": "code",
   "execution_count": 100,
   "metadata": {},
   "outputs": [
    {
     "name": "stdout",
     "output_type": "stream",
     "text": [
      "(array([36, 24, 21, 23,  7, 32,  4]), array([34, 31, 30, 19, 11]))\n"
     ]
    }
   ],
   "source": [
    "c = anchor_matrix.biclique_random(M)\n",
    "print(c)"
   ]
  },
  {
   "cell_type": "code",
   "execution_count": 101,
   "metadata": {},
   "outputs": [
    {
     "data": {
      "image/png": "[encoded data removed]",
      "text/plain": [
       "<Figure size 504x504 with 1 Axes>"
      ]
     },
     "metadata": {},
     "output_type": "display_data"
    }
   ],
   "source": [
    "plt.figure(figsize=(7,7))\n",
    "plt.spy(M, alpha=0.2)\n",
    "\n",
    "\n",
    "MC = np.zeros_like(M, dtype=np.float64)\n",
    "for _ in range(5):\n",
    "  ind_row, ind_col = anchor_matrix.biclique_random(M)\n",
    "  mask = np.zeros_like(M)\n",
    "  mask[np.ix_(ind_row, ind_col)] = 1\n",
    "  MC += mask\n",
    "plt.imshow(-MC, cmap=\"bwr\", alpha=1, vmin=-7, vmax=7)\n",
    "mask = np.zeros_like(M)\n",
    "mask[np.ix_(*best_clique)] = 1\n",
    "# for i in range(mask.shape[0]):\n",
    "#   for j in range(mask.shape[1]):\n",
    "#     mask[i,j] = (i+j+1) % 2\n",
    "plt.spy(mask, marker=\"o\", color=\"red\", markersize=4, label=\"optimal\")\n",
    "handles, labels = plt.gca().get_legend_handles_labels()\n",
    "# manually define a new patch \n",
    "patch = matplotlib.patches.Patch(color='cornflowerblue', label='5-ensemble')\n",
    "handles.insert(0, patch)\n",
    "\n",
    "# add legend entry\n",
    "plt.legend(handles=handles, loc='upper right');\n",
    "#plt.axis()\n",
    "plt.xticks([])\n",
    "plt.yticks([])\n",
    "plt.savefig('data/ensemble_vis.png', dpi=300)\n",
    "\n"
   ]
  },
  {
   "cell_type": "code",
   "execution_count": null,
   "metadata": {},
   "outputs": [],
   "source": []
  }
 ],
 "metadata": {
  "interpreter": {
   "hash": "31f2aee4e71d21fbe5cf8b01ff0e069b9275f58929596ceb00d14d90e3e16cd6"
  },
  "kernelspec": {
   "display_name": "Python 3.8.10 64-bit",
   "language": "python",
   "name": "python3"
  },
  "language_info": {
   "codemirror_mode": {
    "name": "ipython",
    "version": 3
   },
   "file_extension": ".py",
   "mimetype": "text/x-python",
   "name": "python",
   "nbconvert_exporter": "python",
   "pygments_lexer": "ipython3",
   "version": "3.8.10"
  },
  "orig_nbformat": 4
 },
 "nbformat": 4,
 "nbformat_minor": 2
}
