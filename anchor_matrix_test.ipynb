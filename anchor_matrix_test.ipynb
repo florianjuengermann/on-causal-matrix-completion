{
 "cells": [
  {
   "cell_type": "code",
   "execution_count": 2,
   "metadata": {},
   "outputs": [],
   "source": [
    "import numpy as np\n",
    "import matplotlib.pyplot as plt\n",
    "import importlib\n",
    "\n",
    "from src import anchor_matrix"
   ]
  },
  {
   "cell_type": "code",
   "execution_count": 3,
   "metadata": {},
   "outputs": [
    {
     "data": {
      "image/png": "[encoded data removed]",
      "text/plain": [
       "<Figure size 432x288 with 1 Axes>"
      ]
     },
     "metadata": {
      "needs_background": "light"
     },
     "output_type": "display_data"
    }
   ],
   "source": [
    "def genBenchmarkMatrix(n=50):\n",
    "  rng = np.random.default_rng(0)\n",
    "  M = rng.integers(low=0, high=(2+1), size=(n,n))\n",
    "  return M > 0\n",
    "\n",
    "M = genBenchmarkMatrix()\n",
    "plt.spy(M);"
   ]
  },
  {
   "cell_type": "code",
   "execution_count": 4,
   "metadata": {},
   "outputs": [],
   "source": [
    "importlib.reload(anchor_matrix);"
   ]
  },
  {
   "cell_type": "code",
   "execution_count": 5,
   "metadata": {},
   "outputs": [
    {
     "name": "stdout",
     "output_type": "stream",
     "text": [
      "2717885\n"
     ]
    }
   ],
   "source": [
    "c = anchor_matrix.biclique_find_all(M)\n",
    "print(len(c))"
   ]
  },
  {
   "cell_type": "code",
   "execution_count": 6,
   "metadata": {},
   "outputs": [
    {
     "name": "stdout",
     "output_type": "stream",
     "text": [
      "10 at 8/2717885 (2.943465231236789e-06)\n"
     ]
    },
    {
     "data": {
      "image/png": "[encoded data removed]",
      "text/plain": [
       "<Figure size 432x288 with 1 Axes>"
      ]
     },
     "metadata": {
      "needs_background": "light"
     },
     "output_type": "display_data"
    }
   ],
   "source": [
    "smallerSize = np.array([min(len(R), len(C)) for R, C in c])\n",
    "\n",
    "plt.hist(smallerSize)\n",
    "mx = np.max(smallerSize)\n",
    "cnt = np.sum(smallerSize == mx)\n",
    "print(f\"{mx} at {cnt}/{len(smallerSize)} ({cnt/len(smallerSize)})\")"
   ]
  },
  {
   "cell_type": "code",
   "execution_count": 7,
   "metadata": {},
   "outputs": [],
   "source": [
    "all_cliques = list(anchor_matrix.biclique_find_all_networkx(M))\n",
    "smallerSize = [min(len(R), len(C)) for R, C in all_cliques]\n",
    "bestInd = np.argmax(smallerSize)\n",
    "best_clique = all_cliques[bestInd]"
   ]
  },
  {
   "cell_type": "code",
   "execution_count": 295,
   "metadata": {},
   "outputs": [
    {
     "name": "stdout",
     "output_type": "stream",
     "text": [
      "(array([ 0,  2, 10, 40]), array([ 9, 14, 16, 28, 40, 46, 47, 49]))\n"
     ]
    }
   ],
   "source": [
    "c = anchor_matrix.biclique_find_all_networkx(M)\n",
    "print(next(c))"
   ]
  },
  {
   "cell_type": "code",
   "execution_count": 302,
   "metadata": {},
   "outputs": [
    {
     "name": "stdout",
     "output_type": "stream",
     "text": [
      "(array([ 0,  2, 10, 13, 30, 40]), array([16, 28, 46, 47, 49]))\n"
     ]
    }
   ],
   "source": [
    "clique = next(c)\n",
    "print(clique)"
   ]
  },
  {
   "cell_type": "code",
   "execution_count": 353,
   "metadata": {},
   "outputs": [
    {
     "data": {
      "text/plain": [
       "''"
      ]
     },
     "execution_count": 353,
     "metadata": {},
     "output_type": "execute_result"
    },
    {
     "data": {
      "image/png": "[encoded data removed]",
      "text/plain": [
       "<Figure size 720x720 with 1 Axes>"
      ]
     },
     "metadata": {
      "needs_background": "light"
     },
     "output_type": "display_data"
    }
   ],
   "source": [
    "plt.figure(figsize=(10,10))\n",
    "plt.spy(M, alpha=0.2)\n",
    "\n",
    "\n",
    "MC = np.zeros_like(M, dtype=np.float64)\n",
    "for _ in range(20):\n",
    "  ind_row, ind_col = anchor_matrix.biclique_random(M)\n",
    "  mask = np.zeros_like(M)\n",
    "  mask[np.ix_(ind_row, ind_col)] = 1\n",
    "  MC += mask\n",
    "plt.imshow(MC, cmap=\"Blues\", alpha=1)\n",
    "mask = np.zeros_like(M)\n",
    "mask[np.ix_(*best_clique)] = 1\n",
    "#plt.spy(mask, alpha=0.5)\n",
    "#plt.spy(MM, cmap=\"Blues\", alpha=0.5)\n",
    "#visClique(M, best_clique, cmap=\"Reds\", alpha=0.5)\n",
    ";\n"
   ]
  },
  {
   "cell_type": "code",
   "execution_count": 327,
   "metadata": {},
   "outputs": [
    {
     "data": {
      "text/plain": [
       "array([48, 23, 13, 14,  4, 63, 96, 12, 70, 37, 59,  1, 19, 10, 30, 66, 81,\n",
       "       15, 57, 86, 77, 25, 91, 92, 26,  7, 18, 87, 16, 76, 73, 46, 31, 29,\n",
       "       67, 42, 95, 27, 69, 11, 54, 49, 56, 98, 55, 89,  8,  0, 20, 94, 83,\n",
       "       21, 39, 28, 40, 44, 60, 34, 53, 47, 71, 43, 32, 41, 52, 45, 72, 62,\n",
       "        3, 90, 65, 17, 85,  5, 79, 38,  9, 99, 93, 97, 51, 58, 36, 35,  2,\n",
       "        6, 22, 80, 75, 50, 88, 33, 84, 68, 78, 61, 82, 74, 24, 64])"
      ]
     },
     "execution_count": 327,
     "metadata": {},
     "output_type": "execute_result"
    }
   ],
   "source": [
    "np.random.permutation(np.arange(100))"
   ]
  }
 ],
 "metadata": {
  "interpreter": {
   "hash": "31f2aee4e71d21fbe5cf8b01ff0e069b9275f58929596ceb00d14d90e3e16cd6"
  },
  "kernelspec": {
   "display_name": "Python 3.8.10 64-bit",
   "language": "python",
   "name": "python3"
  },
  "language_info": {
   "codemirror_mode": {
    "name": "ipython",
    "version": 3
   },
   "file_extension": ".py",
   "mimetype": "text/x-python",
   "name": "python",
   "nbconvert_exporter": "python",
   "pygments_lexer": "ipython3",
   "version": "3.8.10"
  },
  "orig_nbformat": 4
 },
 "nbformat": 4,
 "nbformat_minor": 2
}
