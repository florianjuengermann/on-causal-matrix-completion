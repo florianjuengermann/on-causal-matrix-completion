{
 "cells": [
  {
   "cell_type": "code",
   "execution_count": 15,
   "metadata": {},
   "outputs": [],
   "source": [
    "import time\n",
    "import numpy as np\n",
    "import matplotlib.pyplot as plt\n",
    "from src import generator as gen\n",
    "from src.estimators import SNNEstimator, RidgeEstimator, GapEstimator\n",
    "from src.general_snn import general_snn\n",
    "from src import anchor_matrix as am"
   ]
  },
  {
   "cell_type": "markdown",
   "metadata": {},
   "source": [
    "# Tests\n",
    "\n",
    "Evaluate the effects of different anchor matrix finding methods:\n",
    "- baseline: finding the _best_ anchor matrix\n",
    "- using multiple good anchor matrices together\n",
    "- using a non-complete matrix and imputing the missing values with averages\n",
    "\n",
    "Test on the following datasets:\n",
    "- Recommendation system, limited MNAR (80x80)\n",
    "- Recommendation system, limited MNAR (160x160)\n",
    "- Recommendation system, general MNAR (80x80)\n",
    "- Recommendation system, general MNAR (160x160)\n",
    "\n",
    "Additional tests:\n",
    "- when using multiple anchor matrices, how many estimates do we need?\n",
    "- non-complete matrix, using whole matrix vs submatrix averages"
   ]
  },
  {
   "cell_type": "code",
   "execution_count": 17,
   "metadata": {},
   "outputs": [],
   "source": [
    "def run_limited_MNAR(rating_matrix, P, biclique_search, estimator, num_estimates=1, num_runs=1):\n",
    "    RMSEs = []\n",
    "    MAEs = []\n",
    "    Times = []\n",
    "    for _ in range(num_runs):\n",
    "        D = np.random.binomial(1, P)\n",
    "        Y = rating_matrix.copy()\n",
    "        Y[D == 0] = np.nan\n",
    "        rtime = time.time()\n",
    "        estimator.prepare(Y, D)\n",
    "        Y_restored = general_snn(\n",
    "          D, Y,\n",
    "          estimator=estimator,\n",
    "          biclique_search=biclique_search,\n",
    "          num_estimates=num_estimates,\n",
    "          min_val=1, max_val=5,\n",
    "          print_progress=True\n",
    "        )\n",
    "        Times.append(time.time() - rtime)\n",
    "        Error = (rating_matrix - Y_restored).flatten()\n",
    "        RMSEs.append(np.sqrt(np.mean(Error ** 2)))\n",
    "        MAEs.append(np.mean(np.abs(Error)))\n",
    "    return {\n",
    "        \"RMSE\": {'mean': np.mean(RMSEs), 'std': np.std(RMSEs)},\n",
    "        \"MAE\": {'mean': np.mean(MAEs), 'std': np.std(MAEs)},\n",
    "        \"time\": {'mean': np.mean(Times), 'std': np.std(Times)}\n",
    "    }\n",
    "\n",
    "def run_general_MNAR(latent_movie_matrix, inv_scale, biclique_search, estimator, num_estimates=1, num_runs=1):\n",
    "    RMSEs = []\n",
    "    MAEs = []\n",
    "    Times = []\n",
    "    for _ in range(num_runs):\n",
    "        rating_matrix, P, latent_movie_matrix = gen.getRatingAndPropensityMatrix_general(latent_movie_matrix, inv_scale)\n",
    "        D = np.random.binomial(1, P) # not really needed as P[i,j] ∈ {0, 1}\n",
    "        Y = rating_matrix.copy()\n",
    "        Y[D == 0] = np.nan\n",
    "        rtime = time.time()\n",
    "        estimator.prepare(Y, D)\n",
    "        Y_restored = general_snn(\n",
    "          D, Y,\n",
    "          estimator=estimator,\n",
    "          biclique_search=biclique_search,\n",
    "          num_estimates=num_estimates,\n",
    "          min_val=1, max_val=5,\n",
    "          print_progress=True\n",
    "        )\n",
    "        Times.append(time.time() - rtime)\n",
    "        Error = (rating_matrix - Y_restored).flatten()\n",
    "        RMSEs.append(np.sqrt(np.mean(Error ** 2)))\n",
    "        MAEs.append(np.mean(np.abs(Error)))\n",
    "    return {\n",
    "        \"RMSE\": {'mean': np.mean(RMSEs), 'std': np.std(RMSEs)},\n",
    "        \"MAE\": {'mean': np.mean(MAEs), 'std': np.std(MAEs)},\n",
    "        \"time\": {'mean': np.mean(Times), 'std': np.std(Times)}\n",
    "    }\n"
   ]
  },
  {
   "cell_type": "markdown",
   "metadata": {},
   "source": [
    "### Datasets:"
   ]
  },
  {
   "cell_type": "code",
   "execution_count": 3,
   "metadata": {},
   "outputs": [],
   "source": [
    "rating_matrix_80,  P_80  = gen.getRatingAndPropensityMatrix(inv_scale=1)\n",
    "rating_matrix_160, P_160 = gen.getRatingAndPropensityMatrix(inv_scale=0.5)\n",
    "_, _, latent_movie_matrix_80  = gen.getRatingAndPropensityMatrix_general(inv_scale=1, seed=0)\n",
    "_, _, latent_movie_matrix_160 = gen.getRatingAndPropensityMatrix_general(inv_scale=0.5, seed=0)"
   ]
  },
  {
   "cell_type": "code",
   "execution_count": 21,
   "metadata": {},
   "outputs": [
    {
     "name": "stdout",
     "output_type": "stream",
     "text": [
      "\n",
      " biclique_random RidgeEstimator\n",
      " 80/80\n",
      "{'RMSE': {'mean': 0.10361809910651641, 'std': 0.0}, 'MAE': {'mean': 0.04523245912113323, 'std': 0.0}, 'time': {'mean': 99.7135682106018, 'std': 0.0}}\n",
      " 4/160"
     ]
    }
   ],
   "source": [
    "estimators = [\n",
    "  RidgeEstimator(reg_alpha=lambda sz, ratio: 0.001),\n",
    "  SNNEstimator(spectral_rank_fun=lambda s, m, n: np.sum(s>=0.001)),\n",
    "]\n",
    "biclique_methods = [\n",
    "  #am.biclique_find,\n",
    "  am.biclique_random,\n",
    "  am.whole_matrix,\n",
    "]\n",
    "num_runs = 1\n",
    "for biclique_method in biclique_methods:\n",
    "    num_estimates = 5 if biclique_method == am.biclique_random else 1\n",
    "    for estimator in estimators:\n",
    "        est = GapEstimator(estimator, avg_base=\"submatrix\") if biclique_method == am.whole_matrix else estimator\n",
    "        print(\"\\n\", biclique_method.__name__, estimator.__class__.__name__)\n",
    "        print(run_limited_MNAR(rating_matrix_80, P_80, biclique_method, est, num_estimates, num_runs))\n",
    "        print(run_limited_MNAR(rating_matrix_160, P_160, biclique_method, est, num_estimates, num_runs))\n",
    "        print(run_general_MNAR(latent_movie_matrix_80, 1, biclique_method, est, num_estimates, num_runs))\n",
    "        print(run_general_MNAR(latent_movie_matrix_160, 0.5, biclique_method, est, num_estimates, num_runs))"
   ]
  },
  {
   "cell_type": "code",
   "execution_count": 4,
   "metadata": {},
   "outputs": [
    {
     "name": "stdout",
     "output_type": "stream",
     "text": [
      " 80/80\n"
     ]
    },
    {
     "data": {
      "text/plain": [
       "{'RMSE': {'mean': 0.032498122274896575, 'std': 0.0},\n",
       " 'MAE': {'mean': 0.00573244788127733, 'std': 0.0}}"
      ]
     },
     "execution_count": 4,
     "metadata": {},
     "output_type": "execute_result"
    }
   ],
   "source": [
    "run_general_MNAR(\n",
    "  latent_movie_matrix_80,\n",
    "  inv_scale=1,\n",
    "  biclique_search=am.biclique_find,\n",
    "  estimator=SNNEstimator(spectral_rank_fun=lambda s, m, n: np.sum(s>=0.001)),\n",
    "  num_estimates=1,\n",
    "  num_runs=1,\n",
    ")"
   ]
  },
  {
   "cell_type": "code",
   "execution_count": 5,
   "metadata": {},
   "outputs": [
    {
     "name": "stdout",
     "output_type": "stream",
     "text": [
      " 80/80\n"
     ]
    },
    {
     "data": {
      "text/plain": [
       "{'RMSE': {'mean': 0.02238232337683985, 'std': 0.0},\n",
       " 'MAE': {'mean': 0.005750886642592301, 'std': 0.0}}"
      ]
     },
     "execution_count": 5,
     "metadata": {},
     "output_type": "execute_result"
    }
   ],
   "source": [
    "run_general_MNAR(\n",
    "  latent_movie_matrix_80,\n",
    "  inv_scale=1,\n",
    "  biclique_search=am.biclique_find,\n",
    "  estimator=RidgeEstimator(reg_alpha=lambda sz, ratio: 0.001),\n",
    "  num_estimates=1,\n",
    "  num_runs=1,\n",
    ")"
   ]
  },
  {
   "cell_type": "code",
   "execution_count": 13,
   "metadata": {},
   "outputs": [
    {
     "name": "stdout",
     "output_type": "stream",
     "text": [
      " 80/80\n"
     ]
    },
    {
     "data": {
      "text/plain": [
       "{'RMSE': {'mean': 0.20820581852734021, 'std': 0.0},\n",
       " 'MAE': {'mean': 0.12328157387088565, 'std': 0.0}}"
      ]
     },
     "execution_count": 13,
     "metadata": {},
     "output_type": "execute_result"
    }
   ],
   "source": [
    "run_general_MNAR(\n",
    "  latent_movie_matrix_80,\n",
    "  inv_scale=1,\n",
    "  biclique_search=am.whole_matrix,\n",
    "  estimator=GapEstimator(\n",
    "    estimator=SNNEstimator(spectral_rank_fun=lambda s, m, n: np.sum(s>=0.001)),\n",
    "    #estimator=RidgeEstimator(reg_alpha=lambda sz, ratio: 0.001),\n",
    "    #avg_base=\"submatrix\",\n",
    "    avg_base=\"complete\",\n",
    "  ),\n",
    "  num_estimates=1,\n",
    "  num_runs=1,\n",
    ")"
   ]
  }
 ],
 "metadata": {
  "interpreter": {
   "hash": "31f2aee4e71d21fbe5cf8b01ff0e069b9275f58929596ceb00d14d90e3e16cd6"
  },
  "kernelspec": {
   "display_name": "Python 3.8.10 64-bit",
   "language": "python",
   "name": "python3"
  },
  "language_info": {
   "codemirror_mode": {
    "name": "ipython",
    "version": 3
   },
   "file_extension": ".py",
   "mimetype": "text/x-python",
   "name": "python",
   "nbconvert_exporter": "python",
   "pygments_lexer": "ipython3",
   "version": "3.8.10"
  },
  "orig_nbformat": 4
 },
 "nbformat": 4,
 "nbformat_minor": 2
}
