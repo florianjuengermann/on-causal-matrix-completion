{
 "cells": [
  {
   "cell_type": "code",
   "execution_count": 7,
   "metadata": {},
   "outputs": [],
   "source": [
    "import time, json\n",
    "import numpy as np\n",
    "import matplotlib.pyplot as plt\n",
    "from src import generator as gen\n",
    "from src.estimators import SNNEstimator, RidgeEstimator, GapEstimator\n",
    "from src.general_snn import general_snn\n",
    "from src import anchor_matrix as am"
   ]
  },
  {
   "cell_type": "markdown",
   "metadata": {},
   "source": [
    "# Tests\n",
    "\n",
    "Evaluate the effects of different anchor matrix finding methods:\n",
    "- baseline: finding the _best_ anchor matrix\n",
    "- using multiple good anchor matrices together\n",
    "- using a non-complete matrix and imputing the missing values with averages\n",
    "\n",
    "Test on the following datasets:\n",
    "- Recommendation system, limited MNAR (80x80)\n",
    "- Recommendation system, limited MNAR (160x160)\n",
    "- Recommendation system, general MNAR (80x80)\n",
    "- Recommendation system, general MNAR (160x160)\n",
    "\n",
    "Additional tests:\n",
    "- when using multiple anchor matrices, how many estimates do we need?\n",
    "- non-complete matrix, using whole matrix vs submatrix averages"
   ]
  },
  {
   "cell_type": "code",
   "execution_count": 2,
   "metadata": {},
   "outputs": [],
   "source": [
    "def run_limited_MNAR(rating_matrix, P, biclique_search, estimator, num_estimates=1, num_runs=1, seed=None):\n",
    "    rng = np.random.default_rng(seed)\n",
    "    RMSEs = []\n",
    "    MAEs = []\n",
    "    Times = []\n",
    "    for _ in range(num_runs):\n",
    "        D = rng.binomial(1, P)\n",
    "        Y = rating_matrix.copy()\n",
    "        Y[D == 0] = np.nan\n",
    "        rtime = time.time()\n",
    "        estimator.prepare(Y, D)\n",
    "        Y_restored = general_snn(\n",
    "          D, Y,\n",
    "          estimator=estimator,\n",
    "          biclique_search=biclique_search,\n",
    "          num_estimates=num_estimates,\n",
    "          min_val=1, max_val=5,\n",
    "          print_progress=True\n",
    "        )\n",
    "        Times.append(time.time() - rtime)\n",
    "        Error = (rating_matrix - Y_restored).flatten()\n",
    "        RMSEs.append(np.sqrt(np.mean(Error ** 2)))\n",
    "        MAEs.append(np.mean(np.abs(Error)))\n",
    "    return {\n",
    "        \"RMSE\": {'mean': np.mean(RMSEs), 'std': np.std(RMSEs)},\n",
    "        \"MAE\": {'mean': np.mean(MAEs), 'std': np.std(MAEs)},\n",
    "        \"time\": {'mean': np.mean(Times), 'std': np.std(Times)}\n",
    "    }\n",
    "\n",
    "def run_general_MNAR(latent_movie_matrix, inv_scale, biclique_search, estimator, num_estimates=1, num_runs=1, seed=None):\n",
    "    rng = np.random.default_rng(seed)\n",
    "    RMSEs = []\n",
    "    MAEs = []\n",
    "    Times = []\n",
    "    for _ in range(num_runs):\n",
    "        rating_matrix, P, latent_movie_matrix = gen.getRatingAndPropensityMatrix_general(latent_movie_matrix, inv_scale, seed=rng)\n",
    "        D = np.random.binomial(1, P) # not really needed as P[i,j] ∈ {0, 1}\n",
    "        Y = rating_matrix.copy()\n",
    "        Y[D == 0] = np.nan\n",
    "        rtime = time.time()\n",
    "        estimator.prepare(Y, D)\n",
    "        Y_restored = general_snn(\n",
    "          D, Y,\n",
    "          estimator=estimator,\n",
    "          biclique_search=biclique_search,\n",
    "          num_estimates=num_estimates,\n",
    "          min_val=1, max_val=5,\n",
    "          print_progress=True\n",
    "        )\n",
    "        Times.append(time.time() - rtime)\n",
    "        Error = (rating_matrix - Y_restored).flatten()\n",
    "        RMSEs.append(np.sqrt(np.mean(Error ** 2)))\n",
    "        MAEs.append(np.mean(np.abs(Error)))\n",
    "    return {\n",
    "        \"RMSE\": {'mean': np.mean(RMSEs), 'std': np.std(RMSEs)},\n",
    "        \"MAE\": {'mean': np.mean(MAEs), 'std': np.std(MAEs)},\n",
    "        \"time\": {'mean': np.mean(Times), 'std': np.std(Times)}\n",
    "    }\n"
   ]
  },
  {
   "cell_type": "markdown",
   "metadata": {},
   "source": [
    "### Datasets:"
   ]
  },
  {
   "cell_type": "code",
   "execution_count": 3,
   "metadata": {},
   "outputs": [],
   "source": [
    "rating_matrix_80,  P_80  = gen.getRatingAndPropensityMatrix(inv_scale=1)\n",
    "rating_matrix_100, P_100 = gen.getRatingAndPropensityMatrix(inv_scale=0.8)\n",
    "rating_matrix_160, P_160 = gen.getRatingAndPropensityMatrix(inv_scale=0.5)\n",
    "_, _, latent_movie_matrix_80  = gen.getRatingAndPropensityMatrix_general(inv_scale=1, seed=0)\n",
    "_, _, latent_movie_matrix_100  = gen.getRatingAndPropensityMatrix_general(inv_scale=0.8, seed=0)\n",
    "_, _, latent_movie_matrix_160 = gen.getRatingAndPropensityMatrix_general(inv_scale=0.5, seed=0)"
   ]
  },
  {
   "cell_type": "code",
   "execution_count": 5,
   "metadata": {},
   "outputs": [
    {
     "name": "stdout",
     "output_type": "stream",
     "text": [
      "\n",
      " biclique_find RidgeEstimator\n",
      " 80/80\n",
      "\n",
      " biclique_find SNNEstimator\n",
      " 80/80\n",
      "\n",
      " biclique_random RidgeEstimator\n",
      " 1/80"
     ]
    },
    {
     "ename": "KeyboardInterrupt",
     "evalue": "",
     "output_type": "error",
     "traceback": [
      "\u001b[0;31m---------------------------------------------------------------------------\u001b[0m",
      "\u001b[0;31mKeyboardInterrupt\u001b[0m                         Traceback (most recent call last)",
      "\u001b[0;32m<ipython-input-5-4cc9b80e62e0>\u001b[0m in \u001b[0;36m<module>\u001b[0;34m\u001b[0m\n\u001b[1;32m     23\u001b[0m         \u001b[0;31m#     res1[m_name][est_name][\"l160\"] = run_limited_MNAR(\u001b[0m\u001b[0;34m\u001b[0m\u001b[0;34m\u001b[0m\u001b[0;34m\u001b[0m\u001b[0m\n\u001b[1;32m     24\u001b[0m         \u001b[0;31m#         rating_matrix_160, P_160, biclique_method, est, num_estimates, num_runs, 0)\u001b[0m\u001b[0;34m\u001b[0m\u001b[0;34m\u001b[0m\u001b[0;34m\u001b[0m\u001b[0m\n\u001b[0;32m---> 25\u001b[0;31m         \u001b[0mres1\u001b[0m\u001b[0;34m[\u001b[0m\u001b[0mm_name\u001b[0m\u001b[0;34m]\u001b[0m\u001b[0;34m[\u001b[0m\u001b[0mest_name\u001b[0m\u001b[0;34m]\u001b[0m\u001b[0;34m[\u001b[0m\u001b[0;34m\"g080\"\u001b[0m\u001b[0;34m]\u001b[0m \u001b[0;34m=\u001b[0m \u001b[0mrun_general_MNAR\u001b[0m\u001b[0;34m(\u001b[0m\u001b[0mlatent_movie_matrix_80\u001b[0m\u001b[0;34m,\u001b[0m \u001b[0;36m1\u001b[0m\u001b[0;34m,\u001b[0m \u001b[0mbiclique_method\u001b[0m\u001b[0;34m,\u001b[0m \u001b[0mest\u001b[0m\u001b[0;34m,\u001b[0m \u001b[0mnum_estimates\u001b[0m\u001b[0;34m,\u001b[0m \u001b[0mnum_runs\u001b[0m\u001b[0;34m,\u001b[0m \u001b[0;36m0\u001b[0m\u001b[0;34m)\u001b[0m\u001b[0;34m\u001b[0m\u001b[0;34m\u001b[0m\u001b[0m\n\u001b[0m\u001b[1;32m     26\u001b[0m         \u001b[0;31m# res1[m_name][est_name][\"g100\"] = run_general_MNAR(latent_movie_matrix_100, 0.8, biclique_method, est, num_estimates, num_runs, 0)\u001b[0m\u001b[0;34m\u001b[0m\u001b[0;34m\u001b[0m\u001b[0;34m\u001b[0m\u001b[0m\n\u001b[1;32m     27\u001b[0m         \u001b[0;31m# if biclique_method != am.biclique_find:\u001b[0m\u001b[0;34m\u001b[0m\u001b[0;34m\u001b[0m\u001b[0;34m\u001b[0m\u001b[0m\n",
      "\u001b[0;32m<ipython-input-2-539fb8a7b612>\u001b[0m in \u001b[0;36mrun_general_MNAR\u001b[0;34m(latent_movie_matrix, inv_scale, biclique_search, estimator, num_estimates, num_runs, seed)\u001b[0m\n\u001b[1;32m     40\u001b[0m         \u001b[0mrtime\u001b[0m \u001b[0;34m=\u001b[0m \u001b[0mtime\u001b[0m\u001b[0;34m.\u001b[0m\u001b[0mtime\u001b[0m\u001b[0;34m(\u001b[0m\u001b[0;34m)\u001b[0m\u001b[0;34m\u001b[0m\u001b[0;34m\u001b[0m\u001b[0m\n\u001b[1;32m     41\u001b[0m         \u001b[0mestimator\u001b[0m\u001b[0;34m.\u001b[0m\u001b[0mprepare\u001b[0m\u001b[0;34m(\u001b[0m\u001b[0mY\u001b[0m\u001b[0;34m,\u001b[0m \u001b[0mD\u001b[0m\u001b[0;34m)\u001b[0m\u001b[0;34m\u001b[0m\u001b[0;34m\u001b[0m\u001b[0m\n\u001b[0;32m---> 42\u001b[0;31m         Y_restored = general_snn(\n\u001b[0m\u001b[1;32m     43\u001b[0m           \u001b[0mD\u001b[0m\u001b[0;34m,\u001b[0m \u001b[0mY\u001b[0m\u001b[0;34m,\u001b[0m\u001b[0;34m\u001b[0m\u001b[0;34m\u001b[0m\u001b[0m\n\u001b[1;32m     44\u001b[0m           \u001b[0mestimator\u001b[0m\u001b[0;34m=\u001b[0m\u001b[0mestimator\u001b[0m\u001b[0;34m,\u001b[0m\u001b[0;34m\u001b[0m\u001b[0;34m\u001b[0m\u001b[0m\n",
      "\u001b[0;32m/media/data/Uni/21W/6.867/on-causal-matrix-completion/src/general_snn.py\u001b[0m in \u001b[0;36mgeneral_snn\u001b[0;34m(D, Y, estimator, biclique_search, num_estimates, min_val, max_val, print_progress)\u001b[0m\n\u001b[1;32m     69\u001b[0m     \u001b[0mmin_val\u001b[0m\u001b[0;34m,\u001b[0m \u001b[0mmax_val\u001b[0m\u001b[0;34m:\u001b[0m \u001b[0mclipping\u001b[0m \u001b[0mthe\u001b[0m \u001b[0mresults\u001b[0m\u001b[0;34m\u001b[0m\u001b[0;34m\u001b[0m\u001b[0m\n\u001b[1;32m     70\u001b[0m     '''\n\u001b[0;32m---> 71\u001b[0;31m     A_3d = general_snn_multi_est(D, Y, [estimator], biclique_search,\n\u001b[0m\u001b[1;32m     72\u001b[0m                                  num_estimates, min_val, max_val, print_progress)\n\u001b[1;32m     73\u001b[0m     \u001b[0;32mreturn\u001b[0m \u001b[0mA_3d\u001b[0m\u001b[0;34m[\u001b[0m\u001b[0;36m0\u001b[0m\u001b[0;34m]\u001b[0m\u001b[0;34m\u001b[0m\u001b[0;34m\u001b[0m\u001b[0m\n",
      "\u001b[0;32m/media/data/Uni/21W/6.867/on-causal-matrix-completion/src/general_snn.py\u001b[0m in \u001b[0;36mgeneral_snn_multi_est\u001b[0;34m(D, Y, estimators, biclique_search, num_estimates, min_val, max_val, print_progress)\u001b[0m\n\u001b[1;32m     39\u001b[0m         \u001b[0;32mfor\u001b[0m \u001b[0mj\u001b[0m \u001b[0;32min\u001b[0m \u001b[0mrange\u001b[0m\u001b[0;34m(\u001b[0m\u001b[0mA\u001b[0m\u001b[0;34m.\u001b[0m\u001b[0mshape\u001b[0m\u001b[0;34m[\u001b[0m\u001b[0;36m1\u001b[0m\u001b[0;34m]\u001b[0m\u001b[0;34m)\u001b[0m\u001b[0;34m:\u001b[0m\u001b[0;34m\u001b[0m\u001b[0;34m\u001b[0m\u001b[0m\n\u001b[1;32m     40\u001b[0m             \u001b[0;32mif\u001b[0m \u001b[0;32mnot\u001b[0m \u001b[0mD\u001b[0m\u001b[0;34m[\u001b[0m\u001b[0mi\u001b[0m\u001b[0;34m,\u001b[0m \u001b[0mj\u001b[0m\u001b[0;34m]\u001b[0m\u001b[0;34m:\u001b[0m\u001b[0;34m\u001b[0m\u001b[0;34m\u001b[0m\u001b[0m\n\u001b[0;32m---> 41\u001b[0;31m                 A[i, j] = general_snn_multi_est_ij(\n\u001b[0m\u001b[1;32m     42\u001b[0m                     D, Y, i, j, num_estimates, biclique_search, estimators)\n\u001b[1;32m     43\u001b[0m     \u001b[0;32mif\u001b[0m \u001b[0mprint_progress\u001b[0m\u001b[0;34m:\u001b[0m\u001b[0;34m\u001b[0m\u001b[0;34m\u001b[0m\u001b[0m\n",
      "\u001b[0;32m/media/data/Uni/21W/6.867/on-causal-matrix-completion/src/general_snn.py\u001b[0m in \u001b[0;36mgeneral_snn_multi_est_ij\u001b[0;34m(D, Y, i, j, num_estimates, biclique_search, estimators)\u001b[0m\n\u001b[1;32m     10\u001b[0m     \u001b[0mestimates\u001b[0m \u001b[0;34m=\u001b[0m \u001b[0;34m[\u001b[0m\u001b[0;34m[\u001b[0m\u001b[0;34m]\u001b[0m \u001b[0;32mfor\u001b[0m \u001b[0m_\u001b[0m \u001b[0;32min\u001b[0m \u001b[0mestimators\u001b[0m\u001b[0;34m]\u001b[0m\u001b[0;34m\u001b[0m\u001b[0;34m\u001b[0m\u001b[0m\n\u001b[1;32m     11\u001b[0m     \u001b[0;32mwhile\u001b[0m \u001b[0mlen\u001b[0m\u001b[0;34m(\u001b[0m\u001b[0mestimates\u001b[0m\u001b[0;34m[\u001b[0m\u001b[0;36m0\u001b[0m\u001b[0;34m]\u001b[0m\u001b[0;34m)\u001b[0m \u001b[0;34m<\u001b[0m \u001b[0mnum_estimates\u001b[0m\u001b[0;34m:\u001b[0m\u001b[0;34m\u001b[0m\u001b[0;34m\u001b[0m\u001b[0m\n\u001b[0;32m---> 12\u001b[0;31m         ind_row, ind_col = anchor_matrix.anchor_sub_matrix(\n\u001b[0m\u001b[1;32m     13\u001b[0m             D, i, j, biclique_search=biclique_search)\n\u001b[1;32m     14\u001b[0m         \u001b[0mx\u001b[0m\u001b[0;34m,\u001b[0m \u001b[0mq\u001b[0m \u001b[0;34m=\u001b[0m \u001b[0mY\u001b[0m\u001b[0;34m[\u001b[0m\u001b[0mind_row\u001b[0m\u001b[0;34m,\u001b[0m \u001b[0mj\u001b[0m\u001b[0;34m]\u001b[0m\u001b[0;34m,\u001b[0m \u001b[0mY\u001b[0m\u001b[0;34m[\u001b[0m\u001b[0mi\u001b[0m\u001b[0;34m,\u001b[0m \u001b[0mind_col\u001b[0m\u001b[0;34m]\u001b[0m\u001b[0;34m\u001b[0m\u001b[0;34m\u001b[0m\u001b[0m\n",
      "\u001b[0;32m/media/data/Uni/21W/6.867/on-causal-matrix-completion/src/anchor_matrix.py\u001b[0m in \u001b[0;36manchor_sub_matrix\u001b[0;34m(D, i, j, biclique_search, _retry)\u001b[0m\n\u001b[1;32m     88\u001b[0m     \u001b[0mNR\u001b[0m \u001b[0;34m=\u001b[0m \u001b[0mnp\u001b[0m\u001b[0;34m.\u001b[0m\u001b[0mwhere\u001b[0m\u001b[0;34m(\u001b[0m\u001b[0mD\u001b[0m\u001b[0;34m[\u001b[0m\u001b[0;34m:\u001b[0m\u001b[0;34m,\u001b[0m \u001b[0mj\u001b[0m\u001b[0;34m]\u001b[0m \u001b[0;34m==\u001b[0m \u001b[0;36m1\u001b[0m\u001b[0;34m)\u001b[0m\u001b[0;34m[\u001b[0m\u001b[0;36m0\u001b[0m\u001b[0;34m]\u001b[0m\u001b[0;34m\u001b[0m\u001b[0;34m\u001b[0m\u001b[0m\n\u001b[1;32m     89\u001b[0m     \u001b[0mB\u001b[0m \u001b[0;34m=\u001b[0m \u001b[0mD\u001b[0m\u001b[0;34m[\u001b[0m\u001b[0mnp\u001b[0m\u001b[0;34m.\u001b[0m\u001b[0mix_\u001b[0m\u001b[0;34m(\u001b[0m\u001b[0mNR\u001b[0m\u001b[0;34m,\u001b[0m \u001b[0mNC\u001b[0m\u001b[0;34m)\u001b[0m\u001b[0;34m]\u001b[0m\u001b[0;34m\u001b[0m\u001b[0;34m\u001b[0m\u001b[0m\n\u001b[0;32m---> 90\u001b[0;31m     \u001b[0mind_NR\u001b[0m\u001b[0;34m,\u001b[0m \u001b[0mind_NC\u001b[0m \u001b[0;34m=\u001b[0m \u001b[0mbiclique_search\u001b[0m\u001b[0;34m(\u001b[0m\u001b[0mB\u001b[0m\u001b[0;34m)\u001b[0m\u001b[0;34m\u001b[0m\u001b[0;34m\u001b[0m\u001b[0m\n\u001b[0m\u001b[1;32m     91\u001b[0m     \u001b[0mind_row\u001b[0m\u001b[0;34m,\u001b[0m \u001b[0mind_col\u001b[0m \u001b[0;34m=\u001b[0m \u001b[0mNR\u001b[0m\u001b[0;34m[\u001b[0m\u001b[0mind_NR\u001b[0m\u001b[0;34m]\u001b[0m\u001b[0;34m,\u001b[0m \u001b[0mNC\u001b[0m\u001b[0;34m[\u001b[0m\u001b[0mind_NC\u001b[0m\u001b[0;34m]\u001b[0m\u001b[0;34m\u001b[0m\u001b[0;34m\u001b[0m\u001b[0m\n\u001b[1;32m     92\u001b[0m \u001b[0;34m\u001b[0m\u001b[0m\n",
      "\u001b[0;32m/media/data/Uni/21W/6.867/on-causal-matrix-completion/src/anchor_matrix.py\u001b[0m in \u001b[0;36mbiclique_random\u001b[0;34m(B)\u001b[0m\n\u001b[1;32m    134\u001b[0m     \u001b[0mB_copy\u001b[0m \u001b[0;34m=\u001b[0m \u001b[0mB\u001b[0m\u001b[0;34m[\u001b[0m\u001b[0mnp\u001b[0m\u001b[0;34m.\u001b[0m\u001b[0mix_\u001b[0m\u001b[0;34m(\u001b[0m\u001b[0mperm_row\u001b[0m\u001b[0;34m,\u001b[0m \u001b[0mperm_cols\u001b[0m\u001b[0;34m)\u001b[0m\u001b[0;34m]\u001b[0m\u001b[0;34m\u001b[0m\u001b[0;34m\u001b[0m\u001b[0m\n\u001b[1;32m    135\u001b[0m     \u001b[0mcliques\u001b[0m \u001b[0;34m=\u001b[0m \u001b[0m_biclique_find_all_networkx\u001b[0m\u001b[0;34m(\u001b[0m\u001b[0mB_copy\u001b[0m\u001b[0;34m)\u001b[0m\u001b[0;34m\u001b[0m\u001b[0;34m\u001b[0m\u001b[0m\n\u001b[0;32m--> 136\u001b[0;31m     \u001b[0mind_row\u001b[0m\u001b[0;34m,\u001b[0m \u001b[0mind_col\u001b[0m \u001b[0;34m=\u001b[0m \u001b[0mnext\u001b[0m\u001b[0;34m(\u001b[0m\u001b[0mcliques\u001b[0m\u001b[0;34m)\u001b[0m\u001b[0;34m\u001b[0m\u001b[0;34m\u001b[0m\u001b[0m\n\u001b[0m\u001b[1;32m    137\u001b[0m     \u001b[0;32mreturn\u001b[0m \u001b[0mperm_row\u001b[0m\u001b[0;34m[\u001b[0m\u001b[0mind_row\u001b[0m\u001b[0;34m]\u001b[0m\u001b[0;34m,\u001b[0m \u001b[0mperm_cols\u001b[0m\u001b[0;34m[\u001b[0m\u001b[0mind_col\u001b[0m\u001b[0;34m]\u001b[0m\u001b[0;34m\u001b[0m\u001b[0;34m\u001b[0m\u001b[0m\n\u001b[1;32m    138\u001b[0m \u001b[0;34m\u001b[0m\u001b[0m\n",
      "\u001b[0;32m/media/data/Uni/21W/6.867/on-causal-matrix-completion/src/anchor_matrix.py\u001b[0m in \u001b[0;36mgenCliques\u001b[0;34m()\u001b[0m\n\u001b[1;32m    110\u001b[0m \u001b[0;34m\u001b[0m\u001b[0m\n\u001b[1;32m    111\u001b[0m     \u001b[0;32mdef\u001b[0m \u001b[0mgenCliques\u001b[0m\u001b[0;34m(\u001b[0m\u001b[0;34m)\u001b[0m\u001b[0;34m:\u001b[0m\u001b[0;34m\u001b[0m\u001b[0;34m\u001b[0m\u001b[0m\n\u001b[0;32m--> 112\u001b[0;31m         \u001b[0mclique\u001b[0m \u001b[0;34m=\u001b[0m \u001b[0mnext\u001b[0m\u001b[0;34m(\u001b[0m\u001b[0mcliques\u001b[0m\u001b[0;34m,\u001b[0m \u001b[0;32mNone\u001b[0m\u001b[0;34m)\u001b[0m\u001b[0;34m\u001b[0m\u001b[0;34m\u001b[0m\u001b[0m\n\u001b[0m\u001b[1;32m    113\u001b[0m         \u001b[0;32mwhile\u001b[0m \u001b[0mclique\u001b[0m\u001b[0;34m:\u001b[0m\u001b[0;34m\u001b[0m\u001b[0;34m\u001b[0m\u001b[0m\n\u001b[1;32m    114\u001b[0m             \u001b[0mclique\u001b[0m \u001b[0;34m=\u001b[0m \u001b[0mnp\u001b[0m\u001b[0;34m.\u001b[0m\u001b[0msort\u001b[0m\u001b[0;34m(\u001b[0m\u001b[0mclique\u001b[0m\u001b[0;34m)\u001b[0m\u001b[0;34m\u001b[0m\u001b[0;34m\u001b[0m\u001b[0m\n",
      "\u001b[0;32m~/.local/lib/python3.8/site-packages/networkx/algorithms/clique.py\u001b[0m in \u001b[0;36mfind_cliques\u001b[0;34m(G)\u001b[0m\n\u001b[1;32m    200\u001b[0m                         \u001b[0msubg\u001b[0m \u001b[0;34m=\u001b[0m \u001b[0msubg_q\u001b[0m\u001b[0;34m\u001b[0m\u001b[0;34m\u001b[0m\u001b[0m\n\u001b[1;32m    201\u001b[0m                         \u001b[0mcand\u001b[0m \u001b[0;34m=\u001b[0m \u001b[0mcand_q\u001b[0m\u001b[0;34m\u001b[0m\u001b[0;34m\u001b[0m\u001b[0m\n\u001b[0;32m--> 202\u001b[0;31m                         \u001b[0mu\u001b[0m \u001b[0;34m=\u001b[0m \u001b[0mmax\u001b[0m\u001b[0;34m(\u001b[0m\u001b[0msubg\u001b[0m\u001b[0;34m,\u001b[0m \u001b[0mkey\u001b[0m\u001b[0;34m=\u001b[0m\u001b[0;32mlambda\u001b[0m \u001b[0mu\u001b[0m\u001b[0;34m:\u001b[0m \u001b[0mlen\u001b[0m\u001b[0;34m(\u001b[0m\u001b[0mcand\u001b[0m \u001b[0;34m&\u001b[0m \u001b[0madj\u001b[0m\u001b[0;34m[\u001b[0m\u001b[0mu\u001b[0m\u001b[0;34m]\u001b[0m\u001b[0;34m)\u001b[0m\u001b[0;34m)\u001b[0m\u001b[0;34m\u001b[0m\u001b[0;34m\u001b[0m\u001b[0m\n\u001b[0m\u001b[1;32m    203\u001b[0m                         \u001b[0mext_u\u001b[0m \u001b[0;34m=\u001b[0m \u001b[0mcand\u001b[0m \u001b[0;34m-\u001b[0m \u001b[0madj\u001b[0m\u001b[0;34m[\u001b[0m\u001b[0mu\u001b[0m\u001b[0;34m]\u001b[0m\u001b[0;34m\u001b[0m\u001b[0;34m\u001b[0m\u001b[0m\n\u001b[1;32m    204\u001b[0m             \u001b[0;32melse\u001b[0m\u001b[0;34m:\u001b[0m\u001b[0;34m\u001b[0m\u001b[0;34m\u001b[0m\u001b[0m\n",
      "\u001b[0;32m~/.local/lib/python3.8/site-packages/networkx/algorithms/clique.py\u001b[0m in \u001b[0;36m<lambda>\u001b[0;34m(u)\u001b[0m\n\u001b[1;32m    200\u001b[0m                         \u001b[0msubg\u001b[0m \u001b[0;34m=\u001b[0m \u001b[0msubg_q\u001b[0m\u001b[0;34m\u001b[0m\u001b[0;34m\u001b[0m\u001b[0m\n\u001b[1;32m    201\u001b[0m                         \u001b[0mcand\u001b[0m \u001b[0;34m=\u001b[0m \u001b[0mcand_q\u001b[0m\u001b[0;34m\u001b[0m\u001b[0;34m\u001b[0m\u001b[0m\n\u001b[0;32m--> 202\u001b[0;31m                         \u001b[0mu\u001b[0m \u001b[0;34m=\u001b[0m \u001b[0mmax\u001b[0m\u001b[0;34m(\u001b[0m\u001b[0msubg\u001b[0m\u001b[0;34m,\u001b[0m \u001b[0mkey\u001b[0m\u001b[0;34m=\u001b[0m\u001b[0;32mlambda\u001b[0m \u001b[0mu\u001b[0m\u001b[0;34m:\u001b[0m \u001b[0mlen\u001b[0m\u001b[0;34m(\u001b[0m\u001b[0mcand\u001b[0m \u001b[0;34m&\u001b[0m \u001b[0madj\u001b[0m\u001b[0;34m[\u001b[0m\u001b[0mu\u001b[0m\u001b[0;34m]\u001b[0m\u001b[0;34m)\u001b[0m\u001b[0;34m)\u001b[0m\u001b[0;34m\u001b[0m\u001b[0;34m\u001b[0m\u001b[0m\n\u001b[0m\u001b[1;32m    203\u001b[0m                         \u001b[0mext_u\u001b[0m \u001b[0;34m=\u001b[0m \u001b[0mcand\u001b[0m \u001b[0;34m-\u001b[0m \u001b[0madj\u001b[0m\u001b[0;34m[\u001b[0m\u001b[0mu\u001b[0m\u001b[0;34m]\u001b[0m\u001b[0;34m\u001b[0m\u001b[0;34m\u001b[0m\u001b[0m\n\u001b[1;32m    204\u001b[0m             \u001b[0;32melse\u001b[0m\u001b[0;34m:\u001b[0m\u001b[0;34m\u001b[0m\u001b[0;34m\u001b[0m\u001b[0m\n",
      "\u001b[0;31mKeyboardInterrupt\u001b[0m: "
     ]
    }
   ],
   "source": [
    "estimators = [\n",
    "  RidgeEstimator(reg_alpha=lambda sz, ratio: 0.001),\n",
    "  SNNEstimator(spectral_rank_fun=lambda s, m, n: np.sum(s>=0.001)),\n",
    "]\n",
    "biclique_methods = [\n",
    "  am.biclique_find,\n",
    "  am.biclique_random,\n",
    "  am.whole_matrix,\n",
    "]\n",
    "num_runs = 1\n",
    "# res1: method -> estimator -> dataset -> res\n",
    "res1 = {method.__name__: {est.__class__.__name__:{} for est in estimators} for method in biclique_methods}\n",
    "for biclique_method in biclique_methods:\n",
    "    num_estimates = 5 if biclique_method == am.biclique_random else 1\n",
    "    for estimator in estimators:\n",
    "        est = GapEstimator(estimator, avg_base=\"submatrix\") if biclique_method == am.whole_matrix else estimator\n",
    "        m_name = biclique_method.__name__\n",
    "        est_name = estimator.__class__.__name__\n",
    "        print(\"\\n\", m_name, est_name)\n",
    "        res1[m_name][est_name][\"l080\"] = run_limited_MNAR(rating_matrix_80, P_80, biclique_method, est, num_estimates, num_runs, 0)\n",
    "        res1[m_name][est_name][\"l100\"] = run_limited_MNAR(rating_matrix_100, P_100, biclique_method, est, num_estimates, num_runs, 0)\n",
    "        if biclique_method != am.biclique_find:\n",
    "            res1[m_name][est_name][\"l160\"] = run_limited_MNAR(\n",
    "                rating_matrix_160, P_160, biclique_method, est, num_estimates, num_runs, 0)\n",
    "        res1[m_name][est_name][\"g080\"] = run_general_MNAR(latent_movie_matrix_80, 1, biclique_method, est, num_estimates, num_runs, 0)\n",
    "        res1[m_name][est_name][\"g100\"] = run_general_MNAR(latent_movie_matrix_100, 0.8, biclique_method, est, num_estimates, num_runs, 0)\n",
    "        if biclique_method != am.biclique_find:\n",
    "            res1[m_name][est_name][\"g160\"] = run_general_MNAR(\n",
    "                latent_movie_matrix_160, 0.5, biclique_method, est, num_estimates, num_runs, 0)\n",
    "\n",
    "with open('data/res1.json', 'w') as outfile:\n",
    "    json.dump(res1, outfile, indent=2)"
   ]
  },
  {
   "cell_type": "markdown",
   "metadata": {},
   "source": [
    "## 2. Additional Tests\n",
    "\n",
    "### 2.1 How many estimates do we need?"
   ]
  },
  {
   "cell_type": "code",
   "execution_count": 23,
   "metadata": {},
   "outputs": [
    {
     "name": "stdout",
     "output_type": "stream",
     "text": [
      "Num estimates: 1\n",
      " 80/80\n",
      "{'RMSE': {'mean': 0.24451148823942842, 'std': 0.0}, 'MAE': {'mean': 0.08126196310181324, 'std': 0.0}, 'time': {'mean': 18.787591218948364, 'std': 0.0}}\n",
      " 80/80\n",
      "{'RMSE': {'mean': 0.033202989662430515, 'std': 0.0}, 'MAE': {'mean': 0.0070504018801775484, 'std': 0.0}, 'time': {'mean': 28.850011110305786, 'std': 0.0}}\n",
      "Num estimates: 3\n",
      " 80/80\n",
      "{'RMSE': {'mean': 0.16385601997429222, 'std': 0.0}, 'MAE': {'mean': 0.06012661745827044, 'std': 0.0}, 'time': {'mean': 64.21792960166931, 'std': 0.0}}\n",
      " 80/80\n",
      "{'RMSE': {'mean': 0.028843383000368473, 'std': 0.0}, 'MAE': {'mean': 0.00738535007526754, 'std': 0.0}, 'time': {'mean': 73.21713638305664, 'std': 0.0}}\n",
      "Num estimates: 5\n",
      " 80/80\n",
      "{'RMSE': {'mean': 0.13724764569381456, 'std': 0.0}, 'MAE': {'mean': 0.05890672188914791, 'std': 0.0}, 'time': {'mean': 99.90985631942749, 'std': 0.0}}\n",
      " 80/80\n",
      "{'RMSE': {'mean': 0.026394870222937957, 'std': 0.0}, 'MAE': {'mean': 0.005835773389535048, 'std': 0.0}, 'time': {'mean': 120.40221500396729, 'std': 0.0}}\n",
      "Num estimates: 10\n",
      " 80/80\n",
      "{'RMSE': {'mean': 0.12946919183937536, 'std': 0.0}, 'MAE': {'mean': 0.05355115152027774, 'std': 0.0}, 'time': {'mean': 202.15372443199158, 'std': 0.0}}\n",
      " 80/80\n",
      "{'RMSE': {'mean': 0.03094322888797952, 'std': 0.0}, 'MAE': {'mean': 0.0065228673803670615, 'std': 0.0}, 'time': {'mean': 234.7422800064087, 'std': 0.0}}\n",
      "Num estimates: 20\n",
      " 4/80"
     ]
    },
    {
     "ename": "KeyboardInterrupt",
     "evalue": "",
     "output_type": "error",
     "traceback": [
      "\u001b[0;31m---------------------------------------------------------------------------\u001b[0m",
      "\u001b[0;31mKeyboardInterrupt\u001b[0m                         Traceback (most recent call last)",
      "\u001b[0;32m<ipython-input-23-40ef4ab062f4>\u001b[0m in \u001b[0;36m<module>\u001b[0;34m\u001b[0m\n\u001b[1;32m      6\u001b[0m \u001b[0;32mfor\u001b[0m \u001b[0mnum_estimates\u001b[0m \u001b[0;32min\u001b[0m \u001b[0mnum_estimates_vals\u001b[0m\u001b[0;34m:\u001b[0m\u001b[0;34m\u001b[0m\u001b[0;34m\u001b[0m\u001b[0m\n\u001b[1;32m      7\u001b[0m     \u001b[0mprint\u001b[0m\u001b[0;34m(\u001b[0m\u001b[0;34mf\"Num estimates: {num_estimates}\"\u001b[0m\u001b[0;34m)\u001b[0m\u001b[0;34m\u001b[0m\u001b[0;34m\u001b[0m\u001b[0m\n\u001b[0;32m----> 8\u001b[0;31m     \u001b[0mprint\u001b[0m\u001b[0;34m(\u001b[0m\u001b[0mrun_limited_MNAR\u001b[0m\u001b[0;34m(\u001b[0m\u001b[0mrating_matrix_80\u001b[0m\u001b[0;34m,\u001b[0m \u001b[0mP_80\u001b[0m\u001b[0;34m,\u001b[0m \u001b[0mbiclique_method\u001b[0m\u001b[0;34m,\u001b[0m \u001b[0mest\u001b[0m\u001b[0;34m,\u001b[0m \u001b[0mnum_estimates\u001b[0m\u001b[0;34m,\u001b[0m \u001b[0mnum_runs\u001b[0m\u001b[0;34m)\u001b[0m\u001b[0;34m)\u001b[0m\u001b[0;34m\u001b[0m\u001b[0;34m\u001b[0m\u001b[0m\n\u001b[0m\u001b[1;32m      9\u001b[0m     \u001b[0;31m#print(run_limited_MNAR(rating_matrix_160, P_160, biclique_method, est, num_estimates, num_runs))\u001b[0m\u001b[0;34m\u001b[0m\u001b[0;34m\u001b[0m\u001b[0;34m\u001b[0m\u001b[0m\n\u001b[1;32m     10\u001b[0m     \u001b[0mprint\u001b[0m\u001b[0;34m(\u001b[0m\u001b[0mrun_general_MNAR\u001b[0m\u001b[0;34m(\u001b[0m\u001b[0mlatent_movie_matrix_80\u001b[0m\u001b[0;34m,\u001b[0m \u001b[0;36m1\u001b[0m\u001b[0;34m,\u001b[0m \u001b[0mbiclique_method\u001b[0m\u001b[0;34m,\u001b[0m \u001b[0mest\u001b[0m\u001b[0;34m,\u001b[0m \u001b[0mnum_estimates\u001b[0m\u001b[0;34m,\u001b[0m \u001b[0mnum_runs\u001b[0m\u001b[0;34m)\u001b[0m\u001b[0;34m)\u001b[0m\u001b[0;34m\u001b[0m\u001b[0;34m\u001b[0m\u001b[0m\n",
      "\u001b[0;32m<ipython-input-17-6f43162f0582>\u001b[0m in \u001b[0;36mrun_limited_MNAR\u001b[0;34m(rating_matrix, P, biclique_search, estimator, num_estimates, num_runs)\u001b[0m\n\u001b[1;32m      9\u001b[0m         \u001b[0mrtime\u001b[0m \u001b[0;34m=\u001b[0m \u001b[0mtime\u001b[0m\u001b[0;34m.\u001b[0m\u001b[0mtime\u001b[0m\u001b[0;34m(\u001b[0m\u001b[0;34m)\u001b[0m\u001b[0;34m\u001b[0m\u001b[0;34m\u001b[0m\u001b[0m\n\u001b[1;32m     10\u001b[0m         \u001b[0mestimator\u001b[0m\u001b[0;34m.\u001b[0m\u001b[0mprepare\u001b[0m\u001b[0;34m(\u001b[0m\u001b[0mY\u001b[0m\u001b[0;34m,\u001b[0m \u001b[0mD\u001b[0m\u001b[0;34m)\u001b[0m\u001b[0;34m\u001b[0m\u001b[0;34m\u001b[0m\u001b[0m\n\u001b[0;32m---> 11\u001b[0;31m         Y_restored = general_snn(\n\u001b[0m\u001b[1;32m     12\u001b[0m           \u001b[0mD\u001b[0m\u001b[0;34m,\u001b[0m \u001b[0mY\u001b[0m\u001b[0;34m,\u001b[0m\u001b[0;34m\u001b[0m\u001b[0;34m\u001b[0m\u001b[0m\n\u001b[1;32m     13\u001b[0m           \u001b[0mestimator\u001b[0m\u001b[0;34m=\u001b[0m\u001b[0mestimator\u001b[0m\u001b[0;34m,\u001b[0m\u001b[0;34m\u001b[0m\u001b[0;34m\u001b[0m\u001b[0m\n",
      "\u001b[0;32m/media/data/Uni/21W/6.867/on-causal-matrix-completion/src/general_snn.py\u001b[0m in \u001b[0;36mgeneral_snn\u001b[0;34m(D, Y, estimator, biclique_search, num_estimates, min_val, max_val, print_progress)\u001b[0m\n\u001b[1;32m     69\u001b[0m     \u001b[0mmin_val\u001b[0m\u001b[0;34m,\u001b[0m \u001b[0mmax_val\u001b[0m\u001b[0;34m:\u001b[0m \u001b[0mclipping\u001b[0m \u001b[0mthe\u001b[0m \u001b[0mresults\u001b[0m\u001b[0;34m\u001b[0m\u001b[0;34m\u001b[0m\u001b[0m\n\u001b[1;32m     70\u001b[0m     '''\n\u001b[0;32m---> 71\u001b[0;31m     A_3d = general_snn_multi_est(D, Y, [estimator], biclique_search,\n\u001b[0m\u001b[1;32m     72\u001b[0m                                  num_estimates, min_val, max_val, print_progress)\n\u001b[1;32m     73\u001b[0m     \u001b[0;32mreturn\u001b[0m \u001b[0mA_3d\u001b[0m\u001b[0;34m[\u001b[0m\u001b[0;36m0\u001b[0m\u001b[0;34m]\u001b[0m\u001b[0;34m\u001b[0m\u001b[0;34m\u001b[0m\u001b[0m\n",
      "\u001b[0;32m/media/data/Uni/21W/6.867/on-causal-matrix-completion/src/general_snn.py\u001b[0m in \u001b[0;36mgeneral_snn_multi_est\u001b[0;34m(D, Y, estimators, biclique_search, num_estimates, min_val, max_val, print_progress)\u001b[0m\n\u001b[1;32m     39\u001b[0m         \u001b[0;32mfor\u001b[0m \u001b[0mj\u001b[0m \u001b[0;32min\u001b[0m \u001b[0mrange\u001b[0m\u001b[0;34m(\u001b[0m\u001b[0mA\u001b[0m\u001b[0;34m.\u001b[0m\u001b[0mshape\u001b[0m\u001b[0;34m[\u001b[0m\u001b[0;36m1\u001b[0m\u001b[0;34m]\u001b[0m\u001b[0;34m)\u001b[0m\u001b[0;34m:\u001b[0m\u001b[0;34m\u001b[0m\u001b[0;34m\u001b[0m\u001b[0m\n\u001b[1;32m     40\u001b[0m             \u001b[0;32mif\u001b[0m \u001b[0;32mnot\u001b[0m \u001b[0mD\u001b[0m\u001b[0;34m[\u001b[0m\u001b[0mi\u001b[0m\u001b[0;34m,\u001b[0m \u001b[0mj\u001b[0m\u001b[0;34m]\u001b[0m\u001b[0;34m:\u001b[0m\u001b[0;34m\u001b[0m\u001b[0;34m\u001b[0m\u001b[0m\n\u001b[0;32m---> 41\u001b[0;31m                 A[i, j] = general_snn_multi_est_ij(\n\u001b[0m\u001b[1;32m     42\u001b[0m                     D, Y, i, j, num_estimates, biclique_search, estimators)\n\u001b[1;32m     43\u001b[0m     \u001b[0;32mif\u001b[0m \u001b[0mprint_progress\u001b[0m\u001b[0;34m:\u001b[0m\u001b[0;34m\u001b[0m\u001b[0;34m\u001b[0m\u001b[0m\n",
      "\u001b[0;32m/media/data/Uni/21W/6.867/on-causal-matrix-completion/src/general_snn.py\u001b[0m in \u001b[0;36mgeneral_snn_multi_est_ij\u001b[0;34m(D, Y, i, j, num_estimates, biclique_search, estimators)\u001b[0m\n\u001b[1;32m     10\u001b[0m     \u001b[0mestimates\u001b[0m \u001b[0;34m=\u001b[0m \u001b[0;34m[\u001b[0m\u001b[0;34m[\u001b[0m\u001b[0;34m]\u001b[0m \u001b[0;32mfor\u001b[0m \u001b[0m_\u001b[0m \u001b[0;32min\u001b[0m \u001b[0mestimators\u001b[0m\u001b[0;34m]\u001b[0m\u001b[0;34m\u001b[0m\u001b[0;34m\u001b[0m\u001b[0m\n\u001b[1;32m     11\u001b[0m     \u001b[0;32mwhile\u001b[0m \u001b[0mlen\u001b[0m\u001b[0;34m(\u001b[0m\u001b[0mestimates\u001b[0m\u001b[0;34m[\u001b[0m\u001b[0;36m0\u001b[0m\u001b[0;34m]\u001b[0m\u001b[0;34m)\u001b[0m \u001b[0;34m<\u001b[0m \u001b[0mnum_estimates\u001b[0m\u001b[0;34m:\u001b[0m\u001b[0;34m\u001b[0m\u001b[0;34m\u001b[0m\u001b[0m\n\u001b[0;32m---> 12\u001b[0;31m         ind_row, ind_col = anchor_matrix.anchor_sub_matrix(\n\u001b[0m\u001b[1;32m     13\u001b[0m             D, i, j, biclique_search=biclique_search)\n\u001b[1;32m     14\u001b[0m         \u001b[0mx\u001b[0m\u001b[0;34m,\u001b[0m \u001b[0mq\u001b[0m \u001b[0;34m=\u001b[0m \u001b[0mY\u001b[0m\u001b[0;34m[\u001b[0m\u001b[0mind_row\u001b[0m\u001b[0;34m,\u001b[0m \u001b[0mj\u001b[0m\u001b[0;34m]\u001b[0m\u001b[0;34m,\u001b[0m \u001b[0mY\u001b[0m\u001b[0;34m[\u001b[0m\u001b[0mi\u001b[0m\u001b[0;34m,\u001b[0m \u001b[0mind_col\u001b[0m\u001b[0;34m]\u001b[0m\u001b[0;34m\u001b[0m\u001b[0;34m\u001b[0m\u001b[0m\n",
      "\u001b[0;32m/media/data/Uni/21W/6.867/on-causal-matrix-completion/src/anchor_matrix.py\u001b[0m in \u001b[0;36manchor_sub_matrix\u001b[0;34m(D, i, j, biclique_search, _retry)\u001b[0m\n\u001b[1;32m     88\u001b[0m     \u001b[0mNR\u001b[0m \u001b[0;34m=\u001b[0m \u001b[0mnp\u001b[0m\u001b[0;34m.\u001b[0m\u001b[0mwhere\u001b[0m\u001b[0;34m(\u001b[0m\u001b[0mD\u001b[0m\u001b[0;34m[\u001b[0m\u001b[0;34m:\u001b[0m\u001b[0;34m,\u001b[0m \u001b[0mj\u001b[0m\u001b[0;34m]\u001b[0m \u001b[0;34m==\u001b[0m \u001b[0;36m1\u001b[0m\u001b[0;34m)\u001b[0m\u001b[0;34m[\u001b[0m\u001b[0;36m0\u001b[0m\u001b[0;34m]\u001b[0m\u001b[0;34m\u001b[0m\u001b[0;34m\u001b[0m\u001b[0m\n\u001b[1;32m     89\u001b[0m     \u001b[0mB\u001b[0m \u001b[0;34m=\u001b[0m \u001b[0mD\u001b[0m\u001b[0;34m[\u001b[0m\u001b[0mnp\u001b[0m\u001b[0;34m.\u001b[0m\u001b[0mix_\u001b[0m\u001b[0;34m(\u001b[0m\u001b[0mNR\u001b[0m\u001b[0;34m,\u001b[0m \u001b[0mNC\u001b[0m\u001b[0;34m)\u001b[0m\u001b[0;34m]\u001b[0m\u001b[0;34m\u001b[0m\u001b[0;34m\u001b[0m\u001b[0m\n\u001b[0;32m---> 90\u001b[0;31m     \u001b[0mind_NR\u001b[0m\u001b[0;34m,\u001b[0m \u001b[0mind_NC\u001b[0m \u001b[0;34m=\u001b[0m \u001b[0mbiclique_search\u001b[0m\u001b[0;34m(\u001b[0m\u001b[0mB\u001b[0m\u001b[0;34m)\u001b[0m\u001b[0;34m\u001b[0m\u001b[0;34m\u001b[0m\u001b[0m\n\u001b[0m\u001b[1;32m     91\u001b[0m     \u001b[0mind_row\u001b[0m\u001b[0;34m,\u001b[0m \u001b[0mind_col\u001b[0m \u001b[0;34m=\u001b[0m \u001b[0mNR\u001b[0m\u001b[0;34m[\u001b[0m\u001b[0mind_NR\u001b[0m\u001b[0;34m]\u001b[0m\u001b[0;34m,\u001b[0m \u001b[0mNC\u001b[0m\u001b[0;34m[\u001b[0m\u001b[0mind_NC\u001b[0m\u001b[0;34m]\u001b[0m\u001b[0;34m\u001b[0m\u001b[0;34m\u001b[0m\u001b[0m\n\u001b[1;32m     92\u001b[0m \u001b[0;34m\u001b[0m\u001b[0m\n",
      "\u001b[0;32m/media/data/Uni/21W/6.867/on-causal-matrix-completion/src/anchor_matrix.py\u001b[0m in \u001b[0;36mbiclique_random\u001b[0;34m(B)\u001b[0m\n\u001b[1;32m    133\u001b[0m     \u001b[0;31m#B_copy = B.copy()\u001b[0m\u001b[0;34m\u001b[0m\u001b[0;34m\u001b[0m\u001b[0;34m\u001b[0m\u001b[0m\n\u001b[1;32m    134\u001b[0m     \u001b[0mB_copy\u001b[0m \u001b[0;34m=\u001b[0m \u001b[0mB\u001b[0m\u001b[0;34m[\u001b[0m\u001b[0mnp\u001b[0m\u001b[0;34m.\u001b[0m\u001b[0mix_\u001b[0m\u001b[0;34m(\u001b[0m\u001b[0mperm_row\u001b[0m\u001b[0;34m,\u001b[0m \u001b[0mperm_cols\u001b[0m\u001b[0;34m)\u001b[0m\u001b[0;34m]\u001b[0m\u001b[0;34m\u001b[0m\u001b[0;34m\u001b[0m\u001b[0m\n\u001b[0;32m--> 135\u001b[0;31m     \u001b[0mcliques\u001b[0m \u001b[0;34m=\u001b[0m \u001b[0m_biclique_find_all_networkx\u001b[0m\u001b[0;34m(\u001b[0m\u001b[0mB_copy\u001b[0m\u001b[0;34m)\u001b[0m\u001b[0;34m\u001b[0m\u001b[0;34m\u001b[0m\u001b[0m\n\u001b[0m\u001b[1;32m    136\u001b[0m     \u001b[0mind_row\u001b[0m\u001b[0;34m,\u001b[0m \u001b[0mind_col\u001b[0m \u001b[0;34m=\u001b[0m \u001b[0mnext\u001b[0m\u001b[0;34m(\u001b[0m\u001b[0mcliques\u001b[0m\u001b[0;34m)\u001b[0m\u001b[0;34m\u001b[0m\u001b[0;34m\u001b[0m\u001b[0m\n\u001b[1;32m    137\u001b[0m     \u001b[0;32mreturn\u001b[0m \u001b[0mperm_row\u001b[0m\u001b[0;34m[\u001b[0m\u001b[0mind_row\u001b[0m\u001b[0;34m]\u001b[0m\u001b[0;34m,\u001b[0m \u001b[0mperm_cols\u001b[0m\u001b[0;34m[\u001b[0m\u001b[0mind_col\u001b[0m\u001b[0;34m]\u001b[0m\u001b[0;34m\u001b[0m\u001b[0;34m\u001b[0m\u001b[0m\n",
      "\u001b[0;32m/media/data/Uni/21W/6.867/on-causal-matrix-completion/src/anchor_matrix.py\u001b[0m in \u001b[0;36m_biclique_find_all_networkx\u001b[0;34m(B)\u001b[0m\n\u001b[1;32m    103\u001b[0m     A = np.block([[np.ones((n_rows, n_rows)), B],\n\u001b[1;32m    104\u001b[0m                   [B.T, np.ones((n_cols, n_cols))]])\n\u001b[0;32m--> 105\u001b[0;31m     \u001b[0mG\u001b[0m \u001b[0;34m=\u001b[0m \u001b[0mnx\u001b[0m\u001b[0;34m.\u001b[0m\u001b[0mfrom_numpy_matrix\u001b[0m\u001b[0;34m(\u001b[0m\u001b[0mA\u001b[0m\u001b[0;34m)\u001b[0m\u001b[0;34m\u001b[0m\u001b[0;34m\u001b[0m\u001b[0m\n\u001b[0m\u001b[1;32m    106\u001b[0m \u001b[0;34m\u001b[0m\u001b[0m\n\u001b[1;32m    107\u001b[0m     \u001b[0;31m# find max clique that yields the most square (nxn) matrix\u001b[0m\u001b[0;34m\u001b[0m\u001b[0;34m\u001b[0m\u001b[0;34m\u001b[0m\u001b[0m\n",
      "\u001b[0;32m~/.local/lib/python3.8/site-packages/networkx/convert_matrix.py\u001b[0m in \u001b[0;36mfrom_numpy_matrix\u001b[0;34m(A, parallel_edges, create_using)\u001b[0m\n\u001b[1;32m    713\u001b[0m     \u001b[0;32mif\u001b[0m \u001b[0mG\u001b[0m\u001b[0;34m.\u001b[0m\u001b[0mis_multigraph\u001b[0m\u001b[0;34m(\u001b[0m\u001b[0;34m)\u001b[0m \u001b[0;32mand\u001b[0m \u001b[0;32mnot\u001b[0m \u001b[0mG\u001b[0m\u001b[0;34m.\u001b[0m\u001b[0mis_directed\u001b[0m\u001b[0;34m(\u001b[0m\u001b[0;34m)\u001b[0m\u001b[0;34m:\u001b[0m\u001b[0;34m\u001b[0m\u001b[0;34m\u001b[0m\u001b[0m\n\u001b[1;32m    714\u001b[0m         \u001b[0mtriples\u001b[0m \u001b[0;34m=\u001b[0m \u001b[0;34m(\u001b[0m\u001b[0;34m(\u001b[0m\u001b[0mu\u001b[0m\u001b[0;34m,\u001b[0m \u001b[0mv\u001b[0m\u001b[0;34m,\u001b[0m \u001b[0md\u001b[0m\u001b[0;34m)\u001b[0m \u001b[0;32mfor\u001b[0m \u001b[0mu\u001b[0m\u001b[0;34m,\u001b[0m \u001b[0mv\u001b[0m\u001b[0;34m,\u001b[0m \u001b[0md\u001b[0m \u001b[0;32min\u001b[0m \u001b[0mtriples\u001b[0m \u001b[0;32mif\u001b[0m \u001b[0mu\u001b[0m \u001b[0;34m<=\u001b[0m \u001b[0mv\u001b[0m\u001b[0;34m)\u001b[0m\u001b[0;34m\u001b[0m\u001b[0;34m\u001b[0m\u001b[0m\n\u001b[0;32m--> 715\u001b[0;31m     \u001b[0mG\u001b[0m\u001b[0;34m.\u001b[0m\u001b[0madd_edges_from\u001b[0m\u001b[0;34m(\u001b[0m\u001b[0mtriples\u001b[0m\u001b[0;34m)\u001b[0m\u001b[0;34m\u001b[0m\u001b[0;34m\u001b[0m\u001b[0m\n\u001b[0m\u001b[1;32m    716\u001b[0m     \u001b[0;32mreturn\u001b[0m \u001b[0mG\u001b[0m\u001b[0;34m\u001b[0m\u001b[0;34m\u001b[0m\u001b[0m\n\u001b[1;32m    717\u001b[0m \u001b[0;34m\u001b[0m\u001b[0m\n",
      "\u001b[0;32m~/.local/lib/python3.8/site-packages/networkx/classes/graph.py\u001b[0m in \u001b[0;36madd_edges_from\u001b[0;34m(self, ebunch_to_add, **attr)\u001b[0m\n\u001b[1;32m    920\u001b[0m         \u001b[0;34m>>\u001b[0m\u001b[0;34m>\u001b[0m \u001b[0mG\u001b[0m\u001b[0;34m.\u001b[0m\u001b[0madd_edges_from\u001b[0m\u001b[0;34m(\u001b[0m\u001b[0;34m[\u001b[0m\u001b[0;34m(\u001b[0m\u001b[0;36m3\u001b[0m\u001b[0;34m,\u001b[0m \u001b[0;36m4\u001b[0m\u001b[0;34m)\u001b[0m\u001b[0;34m,\u001b[0m \u001b[0;34m(\u001b[0m\u001b[0;36m1\u001b[0m\u001b[0;34m,\u001b[0m \u001b[0;36m4\u001b[0m\u001b[0;34m)\u001b[0m\u001b[0;34m]\u001b[0m\u001b[0;34m,\u001b[0m \u001b[0mlabel\u001b[0m\u001b[0;34m=\u001b[0m\u001b[0;34m\"WN2898\"\u001b[0m\u001b[0;34m)\u001b[0m\u001b[0;34m\u001b[0m\u001b[0;34m\u001b[0m\u001b[0m\n\u001b[1;32m    921\u001b[0m         \"\"\"\n\u001b[0;32m--> 922\u001b[0;31m         \u001b[0;32mfor\u001b[0m \u001b[0me\u001b[0m \u001b[0;32min\u001b[0m \u001b[0mebunch_to_add\u001b[0m\u001b[0;34m:\u001b[0m\u001b[0;34m\u001b[0m\u001b[0;34m\u001b[0m\u001b[0m\n\u001b[0m\u001b[1;32m    923\u001b[0m             \u001b[0mne\u001b[0m \u001b[0;34m=\u001b[0m \u001b[0mlen\u001b[0m\u001b[0;34m(\u001b[0m\u001b[0me\u001b[0m\u001b[0;34m)\u001b[0m\u001b[0;34m\u001b[0m\u001b[0;34m\u001b[0m\u001b[0m\n\u001b[1;32m    924\u001b[0m             \u001b[0;32mif\u001b[0m \u001b[0mne\u001b[0m \u001b[0;34m==\u001b[0m \u001b[0;36m3\u001b[0m\u001b[0;34m:\u001b[0m\u001b[0;34m\u001b[0m\u001b[0;34m\u001b[0m\u001b[0m\n",
      "\u001b[0;32m~/.local/lib/python3.8/site-packages/networkx/convert_matrix.py\u001b[0m in \u001b[0;36m<genexpr>\u001b[0;34m(.0)\u001b[0m\n\u001b[1;32m    702\u001b[0m         )\n\u001b[1;32m    703\u001b[0m     \u001b[0;32melse\u001b[0m\u001b[0;34m:\u001b[0m  \u001b[0;31m# basic data type\u001b[0m\u001b[0;34m\u001b[0m\u001b[0;34m\u001b[0m\u001b[0m\n\u001b[0;32m--> 704\u001b[0;31m         \u001b[0mtriples\u001b[0m \u001b[0;34m=\u001b[0m \u001b[0;34m(\u001b[0m\u001b[0;34m(\u001b[0m\u001b[0mu\u001b[0m\u001b[0;34m,\u001b[0m \u001b[0mv\u001b[0m\u001b[0;34m,\u001b[0m \u001b[0mdict\u001b[0m\u001b[0;34m(\u001b[0m\u001b[0mweight\u001b[0m\u001b[0;34m=\u001b[0m\u001b[0mpython_type\u001b[0m\u001b[0;34m(\u001b[0m\u001b[0mA\u001b[0m\u001b[0;34m[\u001b[0m\u001b[0mu\u001b[0m\u001b[0;34m,\u001b[0m \u001b[0mv\u001b[0m\u001b[0;34m]\u001b[0m\u001b[0;34m)\u001b[0m\u001b[0;34m)\u001b[0m\u001b[0;34m)\u001b[0m \u001b[0;32mfor\u001b[0m \u001b[0mu\u001b[0m\u001b[0;34m,\u001b[0m \u001b[0mv\u001b[0m \u001b[0;32min\u001b[0m \u001b[0medges\u001b[0m\u001b[0;34m)\u001b[0m\u001b[0;34m\u001b[0m\u001b[0;34m\u001b[0m\u001b[0m\n\u001b[0m\u001b[1;32m    705\u001b[0m     \u001b[0;31m# If we are creating an undirected multigraph, only add the edges from the\u001b[0m\u001b[0;34m\u001b[0m\u001b[0;34m\u001b[0m\u001b[0;34m\u001b[0m\u001b[0m\n\u001b[1;32m    706\u001b[0m     \u001b[0;31m# upper triangle of the matrix. Otherwise, add all the edges. This relies\u001b[0m\u001b[0;34m\u001b[0m\u001b[0;34m\u001b[0m\u001b[0;34m\u001b[0m\u001b[0m\n",
      "\u001b[0;32m~/.local/lib/python3.8/site-packages/networkx/convert_matrix.py\u001b[0m in \u001b[0;36m<genexpr>\u001b[0;34m(.0)\u001b[0m\n\u001b[1;32m    667\u001b[0m     \u001b[0;31m# Get a list of all the entries in the matrix with nonzero entries. These\u001b[0m\u001b[0;34m\u001b[0m\u001b[0;34m\u001b[0m\u001b[0;34m\u001b[0m\u001b[0m\n\u001b[1;32m    668\u001b[0m     \u001b[0;31m# coordinates become edges in the graph. (convert to int from np.int64)\u001b[0m\u001b[0;34m\u001b[0m\u001b[0;34m\u001b[0m\u001b[0;34m\u001b[0m\u001b[0m\n\u001b[0;32m--> 669\u001b[0;31m     \u001b[0medges\u001b[0m \u001b[0;34m=\u001b[0m \u001b[0;34m(\u001b[0m\u001b[0;34m(\u001b[0m\u001b[0mint\u001b[0m\u001b[0;34m(\u001b[0m\u001b[0me\u001b[0m\u001b[0;34m[\u001b[0m\u001b[0;36m0\u001b[0m\u001b[0;34m]\u001b[0m\u001b[0;34m)\u001b[0m\u001b[0;34m,\u001b[0m \u001b[0mint\u001b[0m\u001b[0;34m(\u001b[0m\u001b[0me\u001b[0m\u001b[0;34m[\u001b[0m\u001b[0;36m1\u001b[0m\u001b[0;34m]\u001b[0m\u001b[0;34m)\u001b[0m\u001b[0;34m)\u001b[0m \u001b[0;32mfor\u001b[0m \u001b[0me\u001b[0m \u001b[0;32min\u001b[0m \u001b[0mzip\u001b[0m\u001b[0;34m(\u001b[0m\u001b[0;34m*\u001b[0m\u001b[0mnp\u001b[0m\u001b[0;34m.\u001b[0m\u001b[0masarray\u001b[0m\u001b[0;34m(\u001b[0m\u001b[0mA\u001b[0m\u001b[0;34m)\u001b[0m\u001b[0;34m.\u001b[0m\u001b[0mnonzero\u001b[0m\u001b[0;34m(\u001b[0m\u001b[0;34m)\u001b[0m\u001b[0;34m)\u001b[0m\u001b[0;34m)\u001b[0m\u001b[0;34m\u001b[0m\u001b[0;34m\u001b[0m\u001b[0m\n\u001b[0m\u001b[1;32m    670\u001b[0m     \u001b[0;31m# handle numpy constructed data type\u001b[0m\u001b[0;34m\u001b[0m\u001b[0;34m\u001b[0m\u001b[0;34m\u001b[0m\u001b[0m\n\u001b[1;32m    671\u001b[0m     \u001b[0;32mif\u001b[0m \u001b[0mpython_type\u001b[0m \u001b[0;34m==\u001b[0m \u001b[0;34m\"void\"\u001b[0m\u001b[0;34m:\u001b[0m\u001b[0;34m\u001b[0m\u001b[0;34m\u001b[0m\u001b[0m\n",
      "\u001b[0;31mKeyboardInterrupt\u001b[0m: "
     ]
    }
   ],
   "source": [
    "estimator = RidgeEstimator(reg_alpha=lambda sz, ratio: 0.001)\n",
    "biclique_method = am.whole_matrix\n",
    "\n",
    "num_runs = 1\n",
    "num_estimates_vals = [1, 3, 5, 10, 20]\n",
    "for num_estimates in num_estimates_vals:\n",
    "    print(f\"Num estimates: {num_estimates}\")\n",
    "    print(run_limited_MNAR(rating_matrix_80, P_80, biclique_method, est, num_estimates, num_runs))\n",
    "    #print(run_limited_MNAR(rating_matrix_160, P_160, biclique_method, est, num_estimates, num_runs))\n",
    "    print(run_general_MNAR(latent_movie_matrix_80, 1, biclique_method, est, num_estimates, num_runs))\n",
    "    #print(run_general_MNAR(latent_movie_matrix_160, 0.5, biclique_method, est, num_estimates, num_runs))"
   ]
  },
  {
   "cell_type": "markdown",
   "metadata": {},
   "source": [
    "### 2.2 Whole matrix, use total or submatrix averages"
   ]
  },
  {
   "cell_type": "code",
   "execution_count": 24,
   "metadata": {},
   "outputs": [
    {
     "name": "stdout",
     "output_type": "stream",
     "text": [
      "\n",
      " RidgeEstimator ['submatrix', 'complete']\n",
      " 7/160"
     ]
    },
    {
     "ename": "KeyboardInterrupt",
     "evalue": "",
     "output_type": "error",
     "traceback": [
      "\u001b[0;31m---------------------------------------------------------------------------\u001b[0m",
      "\u001b[0;31mKeyboardInterrupt\u001b[0m                         Traceback (most recent call last)",
      "\u001b[0;32m<ipython-input-24-95309ff8ef7b>\u001b[0m in \u001b[0;36m<module>\u001b[0;34m\u001b[0m\n\u001b[1;32m     13\u001b[0m       \u001b[0mprint\u001b[0m\u001b[0;34m(\u001b[0m\u001b[0;34m\"\\n\"\u001b[0m\u001b[0;34m,\u001b[0m \u001b[0mestimator\u001b[0m\u001b[0;34m.\u001b[0m\u001b[0m__class__\u001b[0m\u001b[0;34m.\u001b[0m\u001b[0m__name__\u001b[0m\u001b[0;34m,\u001b[0m \u001b[0mavg_basis\u001b[0m\u001b[0;34m)\u001b[0m\u001b[0;34m\u001b[0m\u001b[0;34m\u001b[0m\u001b[0m\n\u001b[1;32m     14\u001b[0m       \u001b[0;31m#print(run_limited_MNAR(rating_matrix_80, P_80, biclique_method, est, 1, num_runs))\u001b[0m\u001b[0;34m\u001b[0m\u001b[0;34m\u001b[0m\u001b[0;34m\u001b[0m\u001b[0m\n\u001b[0;32m---> 15\u001b[0;31m       \u001b[0mprint\u001b[0m\u001b[0;34m(\u001b[0m\u001b[0mrun_limited_MNAR\u001b[0m\u001b[0;34m(\u001b[0m\u001b[0mrating_matrix_160\u001b[0m\u001b[0;34m,\u001b[0m \u001b[0mP_160\u001b[0m\u001b[0;34m,\u001b[0m \u001b[0mbiclique_method\u001b[0m\u001b[0;34m,\u001b[0m \u001b[0mest\u001b[0m\u001b[0;34m,\u001b[0m \u001b[0;36m1\u001b[0m\u001b[0;34m,\u001b[0m \u001b[0mnum_runs\u001b[0m\u001b[0;34m)\u001b[0m\u001b[0;34m)\u001b[0m\u001b[0;34m\u001b[0m\u001b[0;34m\u001b[0m\u001b[0m\n\u001b[0m\u001b[1;32m     16\u001b[0m       \u001b[0;31m#print(run_general_MNAR(latent_movie_matrix_80, 1, biclique_method, est, 1, num_runs))\u001b[0m\u001b[0;34m\u001b[0m\u001b[0;34m\u001b[0m\u001b[0;34m\u001b[0m\u001b[0m\n\u001b[1;32m     17\u001b[0m       \u001b[0;31m#print(run_general_MNAR(latent_movie_matrix_160, 0.5, biclique_method, est, 1, num_runs))\u001b[0m\u001b[0;34m\u001b[0m\u001b[0;34m\u001b[0m\u001b[0;34m\u001b[0m\u001b[0m\n",
      "\u001b[0;32m<ipython-input-17-6f43162f0582>\u001b[0m in \u001b[0;36mrun_limited_MNAR\u001b[0;34m(rating_matrix, P, biclique_search, estimator, num_estimates, num_runs)\u001b[0m\n\u001b[1;32m      9\u001b[0m         \u001b[0mrtime\u001b[0m \u001b[0;34m=\u001b[0m \u001b[0mtime\u001b[0m\u001b[0;34m.\u001b[0m\u001b[0mtime\u001b[0m\u001b[0;34m(\u001b[0m\u001b[0;34m)\u001b[0m\u001b[0;34m\u001b[0m\u001b[0;34m\u001b[0m\u001b[0m\n\u001b[1;32m     10\u001b[0m         \u001b[0mestimator\u001b[0m\u001b[0;34m.\u001b[0m\u001b[0mprepare\u001b[0m\u001b[0;34m(\u001b[0m\u001b[0mY\u001b[0m\u001b[0;34m,\u001b[0m \u001b[0mD\u001b[0m\u001b[0;34m)\u001b[0m\u001b[0;34m\u001b[0m\u001b[0;34m\u001b[0m\u001b[0m\n\u001b[0;32m---> 11\u001b[0;31m         Y_restored = general_snn(\n\u001b[0m\u001b[1;32m     12\u001b[0m           \u001b[0mD\u001b[0m\u001b[0;34m,\u001b[0m \u001b[0mY\u001b[0m\u001b[0;34m,\u001b[0m\u001b[0;34m\u001b[0m\u001b[0;34m\u001b[0m\u001b[0m\n\u001b[1;32m     13\u001b[0m           \u001b[0mestimator\u001b[0m\u001b[0;34m=\u001b[0m\u001b[0mestimator\u001b[0m\u001b[0;34m,\u001b[0m\u001b[0;34m\u001b[0m\u001b[0;34m\u001b[0m\u001b[0m\n",
      "\u001b[0;32m/media/data/Uni/21W/6.867/on-causal-matrix-completion/src/general_snn.py\u001b[0m in \u001b[0;36mgeneral_snn\u001b[0;34m(D, Y, estimator, biclique_search, num_estimates, min_val, max_val, print_progress)\u001b[0m\n\u001b[1;32m     69\u001b[0m     \u001b[0mmin_val\u001b[0m\u001b[0;34m,\u001b[0m \u001b[0mmax_val\u001b[0m\u001b[0;34m:\u001b[0m \u001b[0mclipping\u001b[0m \u001b[0mthe\u001b[0m \u001b[0mresults\u001b[0m\u001b[0;34m\u001b[0m\u001b[0;34m\u001b[0m\u001b[0m\n\u001b[1;32m     70\u001b[0m     '''\n\u001b[0;32m---> 71\u001b[0;31m     A_3d = general_snn_multi_est(D, Y, [estimator], biclique_search,\n\u001b[0m\u001b[1;32m     72\u001b[0m                                  num_estimates, min_val, max_val, print_progress)\n\u001b[1;32m     73\u001b[0m     \u001b[0;32mreturn\u001b[0m \u001b[0mA_3d\u001b[0m\u001b[0;34m[\u001b[0m\u001b[0;36m0\u001b[0m\u001b[0;34m]\u001b[0m\u001b[0;34m\u001b[0m\u001b[0;34m\u001b[0m\u001b[0m\n",
      "\u001b[0;32m/media/data/Uni/21W/6.867/on-causal-matrix-completion/src/general_snn.py\u001b[0m in \u001b[0;36mgeneral_snn_multi_est\u001b[0;34m(D, Y, estimators, biclique_search, num_estimates, min_val, max_val, print_progress)\u001b[0m\n\u001b[1;32m     39\u001b[0m         \u001b[0;32mfor\u001b[0m \u001b[0mj\u001b[0m \u001b[0;32min\u001b[0m \u001b[0mrange\u001b[0m\u001b[0;34m(\u001b[0m\u001b[0mA\u001b[0m\u001b[0;34m.\u001b[0m\u001b[0mshape\u001b[0m\u001b[0;34m[\u001b[0m\u001b[0;36m1\u001b[0m\u001b[0;34m]\u001b[0m\u001b[0;34m)\u001b[0m\u001b[0;34m:\u001b[0m\u001b[0;34m\u001b[0m\u001b[0;34m\u001b[0m\u001b[0m\n\u001b[1;32m     40\u001b[0m             \u001b[0;32mif\u001b[0m \u001b[0;32mnot\u001b[0m \u001b[0mD\u001b[0m\u001b[0;34m[\u001b[0m\u001b[0mi\u001b[0m\u001b[0;34m,\u001b[0m \u001b[0mj\u001b[0m\u001b[0;34m]\u001b[0m\u001b[0;34m:\u001b[0m\u001b[0;34m\u001b[0m\u001b[0;34m\u001b[0m\u001b[0m\n\u001b[0;32m---> 41\u001b[0;31m                 A[i, j] = general_snn_multi_est_ij(\n\u001b[0m\u001b[1;32m     42\u001b[0m                     D, Y, i, j, num_estimates, biclique_search, estimators)\n\u001b[1;32m     43\u001b[0m     \u001b[0;32mif\u001b[0m \u001b[0mprint_progress\u001b[0m\u001b[0;34m:\u001b[0m\u001b[0;34m\u001b[0m\u001b[0;34m\u001b[0m\u001b[0m\n",
      "\u001b[0;32m/media/data/Uni/21W/6.867/on-causal-matrix-completion/src/general_snn.py\u001b[0m in \u001b[0;36mgeneral_snn_multi_est_ij\u001b[0;34m(D, Y, i, j, num_estimates, biclique_search, estimators)\u001b[0m\n\u001b[1;32m     10\u001b[0m     \u001b[0mestimates\u001b[0m \u001b[0;34m=\u001b[0m \u001b[0;34m[\u001b[0m\u001b[0;34m[\u001b[0m\u001b[0;34m]\u001b[0m \u001b[0;32mfor\u001b[0m \u001b[0m_\u001b[0m \u001b[0;32min\u001b[0m \u001b[0mestimators\u001b[0m\u001b[0;34m]\u001b[0m\u001b[0;34m\u001b[0m\u001b[0;34m\u001b[0m\u001b[0m\n\u001b[1;32m     11\u001b[0m     \u001b[0;32mwhile\u001b[0m \u001b[0mlen\u001b[0m\u001b[0;34m(\u001b[0m\u001b[0mestimates\u001b[0m\u001b[0;34m[\u001b[0m\u001b[0;36m0\u001b[0m\u001b[0;34m]\u001b[0m\u001b[0;34m)\u001b[0m \u001b[0;34m<\u001b[0m \u001b[0mnum_estimates\u001b[0m\u001b[0;34m:\u001b[0m\u001b[0;34m\u001b[0m\u001b[0;34m\u001b[0m\u001b[0m\n\u001b[0;32m---> 12\u001b[0;31m         ind_row, ind_col = anchor_matrix.anchor_sub_matrix(\n\u001b[0m\u001b[1;32m     13\u001b[0m             D, i, j, biclique_search=biclique_search)\n\u001b[1;32m     14\u001b[0m         \u001b[0mx\u001b[0m\u001b[0;34m,\u001b[0m \u001b[0mq\u001b[0m \u001b[0;34m=\u001b[0m \u001b[0mY\u001b[0m\u001b[0;34m[\u001b[0m\u001b[0mind_row\u001b[0m\u001b[0;34m,\u001b[0m \u001b[0mj\u001b[0m\u001b[0;34m]\u001b[0m\u001b[0;34m,\u001b[0m \u001b[0mY\u001b[0m\u001b[0;34m[\u001b[0m\u001b[0mi\u001b[0m\u001b[0;34m,\u001b[0m \u001b[0mind_col\u001b[0m\u001b[0;34m]\u001b[0m\u001b[0;34m\u001b[0m\u001b[0;34m\u001b[0m\u001b[0m\n",
      "\u001b[0;32m/media/data/Uni/21W/6.867/on-causal-matrix-completion/src/anchor_matrix.py\u001b[0m in \u001b[0;36manchor_sub_matrix\u001b[0;34m(D, i, j, biclique_search, _retry)\u001b[0m\n\u001b[1;32m     88\u001b[0m     \u001b[0mNR\u001b[0m \u001b[0;34m=\u001b[0m \u001b[0mnp\u001b[0m\u001b[0;34m.\u001b[0m\u001b[0mwhere\u001b[0m\u001b[0;34m(\u001b[0m\u001b[0mD\u001b[0m\u001b[0;34m[\u001b[0m\u001b[0;34m:\u001b[0m\u001b[0;34m,\u001b[0m \u001b[0mj\u001b[0m\u001b[0;34m]\u001b[0m \u001b[0;34m==\u001b[0m \u001b[0;36m1\u001b[0m\u001b[0;34m)\u001b[0m\u001b[0;34m[\u001b[0m\u001b[0;36m0\u001b[0m\u001b[0;34m]\u001b[0m\u001b[0;34m\u001b[0m\u001b[0;34m\u001b[0m\u001b[0m\n\u001b[1;32m     89\u001b[0m     \u001b[0mB\u001b[0m \u001b[0;34m=\u001b[0m \u001b[0mD\u001b[0m\u001b[0;34m[\u001b[0m\u001b[0mnp\u001b[0m\u001b[0;34m.\u001b[0m\u001b[0mix_\u001b[0m\u001b[0;34m(\u001b[0m\u001b[0mNR\u001b[0m\u001b[0;34m,\u001b[0m \u001b[0mNC\u001b[0m\u001b[0;34m)\u001b[0m\u001b[0;34m]\u001b[0m\u001b[0;34m\u001b[0m\u001b[0;34m\u001b[0m\u001b[0m\n\u001b[0;32m---> 90\u001b[0;31m     \u001b[0mind_NR\u001b[0m\u001b[0;34m,\u001b[0m \u001b[0mind_NC\u001b[0m \u001b[0;34m=\u001b[0m \u001b[0mbiclique_search\u001b[0m\u001b[0;34m(\u001b[0m\u001b[0mB\u001b[0m\u001b[0;34m)\u001b[0m\u001b[0;34m\u001b[0m\u001b[0;34m\u001b[0m\u001b[0m\n\u001b[0m\u001b[1;32m     91\u001b[0m     \u001b[0mind_row\u001b[0m\u001b[0;34m,\u001b[0m \u001b[0mind_col\u001b[0m \u001b[0;34m=\u001b[0m \u001b[0mNR\u001b[0m\u001b[0;34m[\u001b[0m\u001b[0mind_NR\u001b[0m\u001b[0;34m]\u001b[0m\u001b[0;34m,\u001b[0m \u001b[0mNC\u001b[0m\u001b[0;34m[\u001b[0m\u001b[0mind_NC\u001b[0m\u001b[0;34m]\u001b[0m\u001b[0;34m\u001b[0m\u001b[0;34m\u001b[0m\u001b[0m\n\u001b[1;32m     92\u001b[0m \u001b[0;34m\u001b[0m\u001b[0m\n",
      "\u001b[0;32m/media/data/Uni/21W/6.867/on-causal-matrix-completion/src/anchor_matrix.py\u001b[0m in \u001b[0;36mbiclique_random\u001b[0;34m(B)\u001b[0m\n\u001b[1;32m    133\u001b[0m     \u001b[0;31m#B_copy = B.copy()\u001b[0m\u001b[0;34m\u001b[0m\u001b[0;34m\u001b[0m\u001b[0;34m\u001b[0m\u001b[0m\n\u001b[1;32m    134\u001b[0m     \u001b[0mB_copy\u001b[0m \u001b[0;34m=\u001b[0m \u001b[0mB\u001b[0m\u001b[0;34m[\u001b[0m\u001b[0mnp\u001b[0m\u001b[0;34m.\u001b[0m\u001b[0mix_\u001b[0m\u001b[0;34m(\u001b[0m\u001b[0mperm_row\u001b[0m\u001b[0;34m,\u001b[0m \u001b[0mperm_cols\u001b[0m\u001b[0;34m)\u001b[0m\u001b[0;34m]\u001b[0m\u001b[0;34m\u001b[0m\u001b[0;34m\u001b[0m\u001b[0m\n\u001b[0;32m--> 135\u001b[0;31m     \u001b[0mcliques\u001b[0m \u001b[0;34m=\u001b[0m \u001b[0m_biclique_find_all_networkx\u001b[0m\u001b[0;34m(\u001b[0m\u001b[0mB_copy\u001b[0m\u001b[0;34m)\u001b[0m\u001b[0;34m\u001b[0m\u001b[0;34m\u001b[0m\u001b[0m\n\u001b[0m\u001b[1;32m    136\u001b[0m     \u001b[0mind_row\u001b[0m\u001b[0;34m,\u001b[0m \u001b[0mind_col\u001b[0m \u001b[0;34m=\u001b[0m \u001b[0mnext\u001b[0m\u001b[0;34m(\u001b[0m\u001b[0mcliques\u001b[0m\u001b[0;34m)\u001b[0m\u001b[0;34m\u001b[0m\u001b[0;34m\u001b[0m\u001b[0m\n\u001b[1;32m    137\u001b[0m     \u001b[0;32mreturn\u001b[0m \u001b[0mperm_row\u001b[0m\u001b[0;34m[\u001b[0m\u001b[0mind_row\u001b[0m\u001b[0;34m]\u001b[0m\u001b[0;34m,\u001b[0m \u001b[0mperm_cols\u001b[0m\u001b[0;34m[\u001b[0m\u001b[0mind_col\u001b[0m\u001b[0;34m]\u001b[0m\u001b[0;34m\u001b[0m\u001b[0;34m\u001b[0m\u001b[0m\n",
      "\u001b[0;32m/media/data/Uni/21W/6.867/on-causal-matrix-completion/src/anchor_matrix.py\u001b[0m in \u001b[0;36m_biclique_find_all_networkx\u001b[0;34m(B)\u001b[0m\n\u001b[1;32m    103\u001b[0m     A = np.block([[np.ones((n_rows, n_rows)), B],\n\u001b[1;32m    104\u001b[0m                   [B.T, np.ones((n_cols, n_cols))]])\n\u001b[0;32m--> 105\u001b[0;31m     \u001b[0mG\u001b[0m \u001b[0;34m=\u001b[0m \u001b[0mnx\u001b[0m\u001b[0;34m.\u001b[0m\u001b[0mfrom_numpy_matrix\u001b[0m\u001b[0;34m(\u001b[0m\u001b[0mA\u001b[0m\u001b[0;34m)\u001b[0m\u001b[0;34m\u001b[0m\u001b[0;34m\u001b[0m\u001b[0m\n\u001b[0m\u001b[1;32m    106\u001b[0m \u001b[0;34m\u001b[0m\u001b[0m\n\u001b[1;32m    107\u001b[0m     \u001b[0;31m# find max clique that yields the most square (nxn) matrix\u001b[0m\u001b[0;34m\u001b[0m\u001b[0;34m\u001b[0m\u001b[0;34m\u001b[0m\u001b[0m\n",
      "\u001b[0;32m~/.local/lib/python3.8/site-packages/networkx/convert_matrix.py\u001b[0m in \u001b[0;36mfrom_numpy_matrix\u001b[0;34m(A, parallel_edges, create_using)\u001b[0m\n\u001b[1;32m    713\u001b[0m     \u001b[0;32mif\u001b[0m \u001b[0mG\u001b[0m\u001b[0;34m.\u001b[0m\u001b[0mis_multigraph\u001b[0m\u001b[0;34m(\u001b[0m\u001b[0;34m)\u001b[0m \u001b[0;32mand\u001b[0m \u001b[0;32mnot\u001b[0m \u001b[0mG\u001b[0m\u001b[0;34m.\u001b[0m\u001b[0mis_directed\u001b[0m\u001b[0;34m(\u001b[0m\u001b[0;34m)\u001b[0m\u001b[0;34m:\u001b[0m\u001b[0;34m\u001b[0m\u001b[0;34m\u001b[0m\u001b[0m\n\u001b[1;32m    714\u001b[0m         \u001b[0mtriples\u001b[0m \u001b[0;34m=\u001b[0m \u001b[0;34m(\u001b[0m\u001b[0;34m(\u001b[0m\u001b[0mu\u001b[0m\u001b[0;34m,\u001b[0m \u001b[0mv\u001b[0m\u001b[0;34m,\u001b[0m \u001b[0md\u001b[0m\u001b[0;34m)\u001b[0m \u001b[0;32mfor\u001b[0m \u001b[0mu\u001b[0m\u001b[0;34m,\u001b[0m \u001b[0mv\u001b[0m\u001b[0;34m,\u001b[0m \u001b[0md\u001b[0m \u001b[0;32min\u001b[0m \u001b[0mtriples\u001b[0m \u001b[0;32mif\u001b[0m \u001b[0mu\u001b[0m \u001b[0;34m<=\u001b[0m \u001b[0mv\u001b[0m\u001b[0;34m)\u001b[0m\u001b[0;34m\u001b[0m\u001b[0;34m\u001b[0m\u001b[0m\n\u001b[0;32m--> 715\u001b[0;31m     \u001b[0mG\u001b[0m\u001b[0;34m.\u001b[0m\u001b[0madd_edges_from\u001b[0m\u001b[0;34m(\u001b[0m\u001b[0mtriples\u001b[0m\u001b[0;34m)\u001b[0m\u001b[0;34m\u001b[0m\u001b[0;34m\u001b[0m\u001b[0m\n\u001b[0m\u001b[1;32m    716\u001b[0m     \u001b[0;32mreturn\u001b[0m \u001b[0mG\u001b[0m\u001b[0;34m\u001b[0m\u001b[0;34m\u001b[0m\u001b[0m\n\u001b[1;32m    717\u001b[0m \u001b[0;34m\u001b[0m\u001b[0m\n",
      "\u001b[0;32m~/.local/lib/python3.8/site-packages/networkx/classes/graph.py\u001b[0m in \u001b[0;36madd_edges_from\u001b[0;34m(self, ebunch_to_add, **attr)\u001b[0m\n\u001b[1;32m    920\u001b[0m         \u001b[0;34m>>\u001b[0m\u001b[0;34m>\u001b[0m \u001b[0mG\u001b[0m\u001b[0;34m.\u001b[0m\u001b[0madd_edges_from\u001b[0m\u001b[0;34m(\u001b[0m\u001b[0;34m[\u001b[0m\u001b[0;34m(\u001b[0m\u001b[0;36m3\u001b[0m\u001b[0;34m,\u001b[0m \u001b[0;36m4\u001b[0m\u001b[0;34m)\u001b[0m\u001b[0;34m,\u001b[0m \u001b[0;34m(\u001b[0m\u001b[0;36m1\u001b[0m\u001b[0;34m,\u001b[0m \u001b[0;36m4\u001b[0m\u001b[0;34m)\u001b[0m\u001b[0;34m]\u001b[0m\u001b[0;34m,\u001b[0m \u001b[0mlabel\u001b[0m\u001b[0;34m=\u001b[0m\u001b[0;34m\"WN2898\"\u001b[0m\u001b[0;34m)\u001b[0m\u001b[0;34m\u001b[0m\u001b[0;34m\u001b[0m\u001b[0m\n\u001b[1;32m    921\u001b[0m         \"\"\"\n\u001b[0;32m--> 922\u001b[0;31m         \u001b[0;32mfor\u001b[0m \u001b[0me\u001b[0m \u001b[0;32min\u001b[0m \u001b[0mebunch_to_add\u001b[0m\u001b[0;34m:\u001b[0m\u001b[0;34m\u001b[0m\u001b[0;34m\u001b[0m\u001b[0m\n\u001b[0m\u001b[1;32m    923\u001b[0m             \u001b[0mne\u001b[0m \u001b[0;34m=\u001b[0m \u001b[0mlen\u001b[0m\u001b[0;34m(\u001b[0m\u001b[0me\u001b[0m\u001b[0;34m)\u001b[0m\u001b[0;34m\u001b[0m\u001b[0;34m\u001b[0m\u001b[0m\n\u001b[1;32m    924\u001b[0m             \u001b[0;32mif\u001b[0m \u001b[0mne\u001b[0m \u001b[0;34m==\u001b[0m \u001b[0;36m3\u001b[0m\u001b[0;34m:\u001b[0m\u001b[0;34m\u001b[0m\u001b[0;34m\u001b[0m\u001b[0m\n",
      "\u001b[0;32m~/.local/lib/python3.8/site-packages/networkx/convert_matrix.py\u001b[0m in \u001b[0;36m<genexpr>\u001b[0;34m(.0)\u001b[0m\n\u001b[1;32m    702\u001b[0m         )\n\u001b[1;32m    703\u001b[0m     \u001b[0;32melse\u001b[0m\u001b[0;34m:\u001b[0m  \u001b[0;31m# basic data type\u001b[0m\u001b[0;34m\u001b[0m\u001b[0;34m\u001b[0m\u001b[0m\n\u001b[0;32m--> 704\u001b[0;31m         \u001b[0mtriples\u001b[0m \u001b[0;34m=\u001b[0m \u001b[0;34m(\u001b[0m\u001b[0;34m(\u001b[0m\u001b[0mu\u001b[0m\u001b[0;34m,\u001b[0m \u001b[0mv\u001b[0m\u001b[0;34m,\u001b[0m \u001b[0mdict\u001b[0m\u001b[0;34m(\u001b[0m\u001b[0mweight\u001b[0m\u001b[0;34m=\u001b[0m\u001b[0mpython_type\u001b[0m\u001b[0;34m(\u001b[0m\u001b[0mA\u001b[0m\u001b[0;34m[\u001b[0m\u001b[0mu\u001b[0m\u001b[0;34m,\u001b[0m \u001b[0mv\u001b[0m\u001b[0;34m]\u001b[0m\u001b[0;34m)\u001b[0m\u001b[0;34m)\u001b[0m\u001b[0;34m)\u001b[0m \u001b[0;32mfor\u001b[0m \u001b[0mu\u001b[0m\u001b[0;34m,\u001b[0m \u001b[0mv\u001b[0m \u001b[0;32min\u001b[0m \u001b[0medges\u001b[0m\u001b[0;34m)\u001b[0m\u001b[0;34m\u001b[0m\u001b[0;34m\u001b[0m\u001b[0m\n\u001b[0m\u001b[1;32m    705\u001b[0m     \u001b[0;31m# If we are creating an undirected multigraph, only add the edges from the\u001b[0m\u001b[0;34m\u001b[0m\u001b[0;34m\u001b[0m\u001b[0;34m\u001b[0m\u001b[0m\n\u001b[1;32m    706\u001b[0m     \u001b[0;31m# upper triangle of the matrix. Otherwise, add all the edges. This relies\u001b[0m\u001b[0;34m\u001b[0m\u001b[0;34m\u001b[0m\u001b[0;34m\u001b[0m\u001b[0m\n",
      "\u001b[0;31mKeyboardInterrupt\u001b[0m: "
     ]
    }
   ],
   "source": [
    "base_estimators = [\n",
    "  RidgeEstimator(reg_alpha=lambda sz, ratio: 0.001),\n",
    "  SNNEstimator(spectral_rank_fun=lambda s, m, n: np.sum(s>=0.001)),\n",
    "]\n",
    "\n",
    "biclique_method = am.biclique_random\n",
    "\n",
    "num_runs = 1\n",
    "avg_basis = [\"submatrix\", \"complete\"]\n",
    "for base_estimator in base_estimators:\n",
    "  for avg_base in avg_basis:\n",
    "      est = GapEstimator(base_estimator, avg_base=avg_base) \n",
    "      print(\"\\n\", estimator.__class__.__name__, avg_basis)\n",
    "      #print(run_limited_MNAR(rating_matrix_80, P_80, biclique_method, est, 1, num_runs))\n",
    "      print(run_limited_MNAR(rating_matrix_160, P_160, biclique_method, est, 1, num_runs))\n",
    "      #print(run_general_MNAR(latent_movie_matrix_80, 1, biclique_method, est, 1, num_runs))\n",
    "      #print(run_general_MNAR(latent_movie_matrix_160, 0.5, biclique_method, est, 1, num_runs))"
   ]
  },
  {
   "cell_type": "code",
   "execution_count": 4,
   "metadata": {},
   "outputs": [
    {
     "name": "stdout",
     "output_type": "stream",
     "text": [
      " 80/80\n"
     ]
    },
    {
     "data": {
      "text/plain": [
       "{'RMSE': {'mean': 0.032498122274896575, 'std': 0.0},\n",
       " 'MAE': {'mean': 0.00573244788127733, 'std': 0.0}}"
      ]
     },
     "execution_count": 4,
     "metadata": {},
     "output_type": "execute_result"
    }
   ],
   "source": [
    "run_general_MNAR(\n",
    "  latent_movie_matrix_80,\n",
    "  inv_scale=1,\n",
    "  biclique_search=am.biclique_find,\n",
    "  estimator=SNNEstimator(spectral_rank_fun=lambda s, m, n: np.sum(s>=0.001)),\n",
    "  num_estimates=1,\n",
    "  num_runs=1,\n",
    ")"
   ]
  },
  {
   "cell_type": "code",
   "execution_count": 5,
   "metadata": {},
   "outputs": [
    {
     "name": "stdout",
     "output_type": "stream",
     "text": [
      " 80/80\n"
     ]
    },
    {
     "data": {
      "text/plain": [
       "{'RMSE': {'mean': 0.02238232337683985, 'std': 0.0},\n",
       " 'MAE': {'mean': 0.005750886642592301, 'std': 0.0}}"
      ]
     },
     "execution_count": 5,
     "metadata": {},
     "output_type": "execute_result"
    }
   ],
   "source": [
    "run_general_MNAR(\n",
    "  latent_movie_matrix_80,\n",
    "  inv_scale=1,\n",
    "  biclique_search=am.biclique_find,\n",
    "  estimator=RidgeEstimator(reg_alpha=lambda sz, ratio: 0.001),\n",
    "  num_estimates=1,\n",
    "  num_runs=1,\n",
    ")"
   ]
  },
  {
   "cell_type": "code",
   "execution_count": 13,
   "metadata": {},
   "outputs": [
    {
     "name": "stdout",
     "output_type": "stream",
     "text": [
      " 80/80\n"
     ]
    },
    {
     "data": {
      "text/plain": [
       "{'RMSE': {'mean': 0.20820581852734021, 'std': 0.0},\n",
       " 'MAE': {'mean': 0.12328157387088565, 'std': 0.0}}"
      ]
     },
     "execution_count": 13,
     "metadata": {},
     "output_type": "execute_result"
    }
   ],
   "source": [
    "run_general_MNAR(\n",
    "  latent_movie_matrix_80,\n",
    "  inv_scale=1,\n",
    "  biclique_search=am.whole_matrix,\n",
    "  estimator=GapEstimator(\n",
    "    estimator=SNNEstimator(spectral_rank_fun=lambda s, m, n: np.sum(s>=0.001)),\n",
    "    #estimator=RidgeEstimator(reg_alpha=lambda sz, ratio: 0.001),\n",
    "    #avg_base=\"submatrix\",\n",
    "    avg_base=\"complete\",\n",
    "  ),\n",
    "  num_estimates=1,\n",
    "  num_runs=1,\n",
    ")"
   ]
  }
 ],
 "metadata": {
  "interpreter": {
   "hash": "31f2aee4e71d21fbe5cf8b01ff0e069b9275f58929596ceb00d14d90e3e16cd6"
  },
  "kernelspec": {
   "display_name": "Python 3.8.10 64-bit",
   "language": "python",
   "name": "python3"
  },
  "language_info": {
   "codemirror_mode": {
    "name": "ipython",
    "version": 3
   },
   "file_extension": ".py",
   "mimetype": "text/x-python",
   "name": "python",
   "nbconvert_exporter": "python",
   "pygments_lexer": "ipython3",
   "version": "3.8.10"
  },
  "orig_nbformat": 4
 },
 "nbformat": 4,
 "nbformat_minor": 2
}
